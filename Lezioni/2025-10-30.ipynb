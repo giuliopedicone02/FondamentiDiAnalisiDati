{
 "cells": [
  {
   "cell_type": "markdown",
   "id": "9fe75c72",
   "metadata": {},
   "source": [
    "# Giovedì 30 ottobre 2025 - Tutorato\n",
    "\n",
    "## Intervalli di confidenza (Subsampling e t-student)"
   ]
  },
  {
   "cell_type": "code",
   "execution_count": 3,
   "id": "8f53a281",
   "metadata": {},
   "outputs": [
    {
     "name": "stdout",
     "output_type": "stream",
     "text": [
      "Media campionario: 124.30\n",
      "Errore Standard (SE): 3.10\n",
      "Valore t-critico: 1.98\n",
      "Intervallo di confidenza: [118.16,130.44]\n"
     ]
    }
   ],
   "source": [
    "import pandas as pd\n",
    "import numpy as np\n",
    "import scipy.stats as stats\n",
    "from sklearn.utils import resample\n",
    "\n",
    "pima = pd.read_csv('../Dataset/PIMA.xls')\n",
    "\n",
    "sub_sample = pima['Glucose'].replace(0, np.nan).dropna().sample(n=100, random_state=42)\n",
    "\n",
    "n = len(sub_sample)\n",
    "mean = sub_sample.mean()\n",
    "std_dev = sub_sample.std(ddof=1)\n",
    "\n",
    "se = std_dev / np.sqrt(n)\n",
    "\n",
    "confidence=0.95\n",
    "df_freedom = n -1\n",
    "\n",
    "t_critical = stats.t.ppf((1+confidence)/2,df=df_freedom)\n",
    "\n",
    "margin_of_error = t_critical * se\n",
    "\n",
    "ci_lower = mean - margin_of_error\n",
    "ci_upper = mean + margin_of_error\n",
    "\n",
    "print(f\"Media campionario: {mean:.2f}\")\n",
    "print(f\"Errore Standard (SE): {se:.2f}\")\n",
    "print(f\"Valore t-critico: {t_critical:.2f}\")\n",
    "print(f\"Intervallo di confidenza: [{ci_lower:.2f},{ci_upper:.2f}]\")\n",
    "\n"
   ]
  },
  {
   "cell_type": "markdown",
   "id": "6afbc1b3",
   "metadata": {},
   "source": [
    "Con il metodo del **bootstrapping** riusciamo a ridurre l'intervallo di confidenza.\n",
    "\n",
    "## Test d'ipotesi\n",
    "\n",
    "- H0 (Ipotesi nulla): La media del numero di gravidanze è la stessa per entrambi i gruppi\n",
    "- H1 (Ipotesi alterativa): La media del numero di gravidanze è diversa"
   ]
  },
  {
   "cell_type": "markdown",
   "id": "a2867230",
   "metadata": {},
   "source": []
  }
 ],
 "metadata": {
  "kernelspec": {
   "display_name": "FAD_env",
   "language": "python",
   "name": "python3"
  },
  "language_info": {
   "codemirror_mode": {
    "name": "ipython",
    "version": 3
   },
   "file_extension": ".py",
   "mimetype": "text/x-python",
   "name": "python",
   "nbconvert_exporter": "python",
   "pygments_lexer": "ipython3",
   "version": "3.10.19"
  }
 },
 "nbformat": 4,
 "nbformat_minor": 5
}
