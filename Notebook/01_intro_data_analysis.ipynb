{
  "cells": [
    {
      "cell_type": "markdown",
      "metadata": {
        "id": "N3SDT8L7nNpC"
      },
      "source": [
        "# Data Analysis Key Concepts, Loading and Inspecting the Data\n",
        "In this lecture, we will being to see the main definition and foundational concepts in data analysis.\n",
        "\n",
        "## What is Data? An informal Definition\n",
        "We will start by giving an informal definition of data. It is not by any means a complete definition, but it will suffice as a starting point to get an intuitive understanding of what data is:\n",
        "\n",
        ">Data is a **set of values** **collected** with respect to some **variables** which describe a given **phenomenon**.\n",
        "\n",
        "In the definition above, we mentioned some key concepts, which are discussed in the following sections.\n",
        "\n",
        "## Observations, Populations, Samples\n",
        "\n",
        "We will see three fundamental concepts: observations, populations, samples.\n",
        "\n",
        "### Observations\n",
        "![](https://github.com/antoninofurnari/fadlecturenotes/blob/master/lecturenotes//_static/lecture_specific/intro_data_analysis/observations.png?raw=1)\n",
        "\n",
        "When we deal with data, we actually deal with *multiple instances* of values associated to the same event or phenomenon. Examples:\n",
        "|Example|Comment|\n",
        "|-|-|\n",
        "|We want to study how the heights of students change with the years| We need sets of recorded heights, not just one height|\n",
        "|We want to study how a given drug affects the recovering from a disease | We need to record sets of values about drug assumption and recover, just one case will not be enough|\n",
        "|We need to create a system which can generate text from a prompt | We need to record several examples of prompt-text generation, just one would not be enough to study how such generation should be made|\n",
        "\n",
        "We will call **observations, the units by which we measure data**. These could be persons, cars, animals, plants, etc. We often indicate an observation as\n",
        "\n",
        "$$\\omega$$\n",
        "\n",
        "We should consider observation as **\"abstract\" entities**, not necessarily numerical observations. E.g., \"let's consider a person $\\omega$\".\n",
        "\n",
        "### Population\n",
        "![](https://github.com/antoninofurnari/fadlecturenotes/blob/master/lecturenotes//_static/lecture_specific/intro_data_analysis/population.png?raw=1)\n",
        "When we study a given phenomenon, we will be interested in a set of observations, which is called a \"population\". For instance:\n",
        "* if we want to study the distribution of heights of people in the world, we will need to look at the population of all people in the world.\n",
        "* if we want to study the age of people attending a computer science course in Italy, then we need to look at the population of all students of computer science courses in Italy.\n",
        "\n",
        "Note that **a population can sometimes be a theoretical concept** and identify sets of elements which are not even finite. E.g., *\"all movies which will ever be filmed\"*.\n",
        "\n",
        "We can denote a population with the symbol $\\Omega$. Al our observations will be\n",
        "\n",
        "$$\n",
        "\\omega \\in \\Omega\n",
        "$$\n",
        "\n",
        "### Sample\n",
        "![](https://github.com/antoninofurnari/fadlecturenotes/blob/master/lecturenotes//_static/lecture_specific/intro_data_analysis/sample.png?raw=1)\n",
        "In practice, working with population can be very hard, as it is not always possible to obtain observations from those large sets. Intuitively, in practice, working on a large enough set of observations from a population could be good enough. We refer to a subset of a population as \"a sample\":\n",
        "\n",
        "$$\n",
        "\\{\\omega^{(1)}, \\omega^{(2)}, \\ldots, \\omega^{(n)}\\} \\subseteq \\Omega\n",
        "$$\n",
        "\n",
        "### Example\n",
        "We want to study how the height of people in the world changed in the years. Here:\n",
        "* the **population** $\\Omega$ is the set of people ever existed on earth,\n",
        "* a **sample** $\\{\\omega^{(1)},\\ldots,\\omega^{(n)}\\} \\subseteq \\Omega$ is a subset of people for which we have some data (e.g., say we measured the heights of many people in most countries since the 16th century),\n",
        "* an observation is a person $\\omega^{(i)}$."
      ]
    },
    {
      "cell_type": "markdown",
      "metadata": {
        "id": "5NhTG9munNpF"
      },
      "source": [
        "## Variables (or Features)\n",
        "\n",
        "![](https://github.com/antoninofurnari/fadlecturenotes/blob/master/lecturenotes//_static/lecture_specific/intro_data_analysis/observations.png?raw=1)\n",
        "\n",
        "We have identified our problem, defined a suitable population and identified a sample of observations. While observations are abstract concepts such as \"a person\" or \"a student\", we **usually want to capture specific features of such observations**, such as \"the person's age\" or \"the student's height\". We collect these features by means of **statistical variables**.\n",
        "\n",
        "Statistical variables are concept similar to that of mathematical of programming variables, in that they can be seen as sorts of **\"containers for the data\"**.\n",
        "\n",
        "We may also be interested in different features of an observation. For instance, for each person in a population, **we may want to record their age, gender, and height**. We can introduce a variable to capture each of these features. For instance, given observation $\\omega$, we may obtain \"height = 180cm\", \"weight=80Kg\", \"gender=male\".\n",
        "\n",
        "Formally, we'll define a variable $X$ as:\n",
        "\n",
        "$$X : \\Omega \\to S$$\n",
        "$$ \\omega \\mapsto x$$\n",
        "\n",
        "Where $S$ is the set of possible values for variable $X$. The definition above specifies that a variable maps an abstract observation $\\omega$ to some (possibly more concrete) value $x \\in S$.\n",
        "\n",
        "> Note: we use a capital letter $X$ to denote the variable, while a lowercase letter $x$ to represent the value assumed by the variable. For instance, we could write $X=x \\in S$.\n",
        "\n",
        "The concept of variable is often used interchangeably with the term **feature**, which is more used in the Machine Learning community and jargon. This is because a variable capture a specific \"feature\" or \"characteristic\" of each observation. For instance, the variable \"height\" capture the height feature of a person.\n",
        "\n",
        "### Example\n",
        "Given the population of all people currently living in the world $\\Omega$, we define a variable $H$ to collect the heights of the observed people $\\omega$:\n",
        "\n",
        "$$H : \\Omega \\to \\mathbb{R}$$\n",
        "$$ \\omega \\mapsto h $$\n",
        "\n",
        "Given an observation $\\omega^{(1)}$, we may obtain $H(\\omega)=180$. We often say that $H$ assumes the value $180$ and write: $H=180$.\n",
        "\n",
        "\n",
        "### Quantitative and Qualitative Variables\n",
        "Variables can be of two main kinds:\n",
        "\n",
        "* **Qualitative**: represent properties that can be observed and cannot generally be measured with a numerical value (e.g., ‘color’, ‘sex’);\n",
        "\n",
        "* **Quantitative**: represent properties that can be quantified with a number (e.g., ‘height’, ‘weight’, ‘age’).\n",
        "\n",
        "### Discrete and Continuous Variables\n",
        "Variables can also be discrete or continues:\n",
        "\n",
        "* **Discrete variables** can assume a finite number (or a countable infinite number) of possible values. Binary variables are a special case of discrete variables which can take only two possible values ($0$ and $1$).\n",
        "* **Continuous variable** assume a continuous, infinite number of values, which can be generally denoted with real numbers\n",
        "\n",
        "Variables which take numerical values are generally called also \"numeric\" variables.\n",
        "\n",
        "### Scalar and Multi-Dimensional Variables\n",
        "\n",
        "Variables can be:\n",
        "\n",
        "* **scalar**, **uni-dimensional** or **uni-variate**: they assume real numbers (e.g., $X=1$)\n",
        "* **multi-dimensional** or **multi-variate**: they assume vector or matrix values, (e.g., $X = \\binom{1}{3}$, or $X = \\begin{pmatrix}\n",
        "1 & 2 \\\\\n",
        "3 & 4 \\\\\n",
        "\\end{pmatrix}$).\n",
        "\n",
        "### Examples\n",
        "\n",
        "Let's see some examples:\n",
        "\n",
        "#### Discrete Scalar Variables\n",
        "\n",
        "We want to assess if a coin is fair or not.\n",
        "* We consider as population all possible tosses of that coin.\n",
        "* An observation will be a specific tossing.\n",
        "* A discrete scalar variable $X$ may record the outcome of a given tossing. The set of possible values will be $S=\\{head,\\ tail\\}$ (discrete values). The variable is scalar as it will contain a single value.\n",
        "* If we toss a coin, we may get $X=tail$.\n",
        "\n",
        "#### Continuous Scalar Variables\n",
        "\n",
        "We want to study the heights in centimeters of students in this class.\n",
        "* Our population is the set of all students in this class.\n",
        "* We can use a continuous scalar variable $X$ to record the heights of the students. In this case, we can choose $S=\\mathbb{R}_+$.\n",
        "* If we pick a student, we may get $X=175$.\n",
        "\n",
        "#### Continuous Multi-Dimensional Variables\n",
        "\n",
        "We want to study the positions of all cars in the world.\n",
        "* Our population is the set of all cars in the world.\n",
        "* We could use the variable $X$ to denote the latitude and longitude coordinates of a car in the world. The set of possible values may be $S=\\mathbb{R}^2$.\n",
        "* Once we pick a car, we may have $X = \\binom{37}{15}$.\n",
        "\n",
        "### Scales\n",
        "![](https://github.com/antoninofurnari/fadlecturenotes/blob/master/lecturenotes//_static/lecture_specific/intro_data_analysis/scales.png?raw=1)\n",
        "When working with variables, it's important to understand whether their values can be meaningfully ordered. This is captured by the concept of **measurement scales**:\n",
        "\n",
        "- **Nominal scale**: values **cannot be ordered**.  \n",
        "  Examples: gender, eye color, car manufacturer. We cannot say that \"green > brown\".\n",
        "\n",
        "- **Ordinal scale**: values **can be ordered**, but **differences are not meaningful**.  \n",
        "  Example: levels of expertise (novice, amateur, intermediate, expert). We can say \"novice < amateur\", but \"amateur - novice\" is usually different than \"intermediate - amateur\".\n",
        "\n",
        "- **Interval scale**: values **can be ordered**, and **differences are meaningful**,  \n",
        "  but there is **no true zero denoting the absence of the quantity**.  \n",
        "  Example: temperature in Celsius or Fahrenheit. We can say 25° - 15° = 32°-22°, but 0° does not denote that \"there is no temperature\".\n",
        "\n",
        "- **Ratio scale**: values **can be ordered**, **differences are meaningful**, and there **is a true zero**.  \n",
        "  Examples: height, weight, age, income. 0cm or 0Kg denotes the absence of the quantity, plus differences are meaningful and ordering is possible."
      ]
    },
    {
      "cell_type": "markdown",
      "metadata": {
        "id": "qQ_Cxfr1nNpG"
      },
      "source": [
        "## Data Sets, Design Matrix, and Missing Values\n",
        "\n",
        "![](https://github.com/antoninofurnari/fadlecturenotes/blob/master/lecturenotes//_static/lecture_specific/intro_data_analysis/designmatrix.png?raw=1)\n",
        "\n",
        "A set of data related to a specific phenomenon is called a \"dataset\". Datasets are usually stored in tables in which **columns represent the different variables** and **rows represent the different observations**. If you have ever had a look at a spreadsheet, you probably already saw an example of a dataset!\n",
        "\n",
        "Let's consider the following example of a dataset of marks of $5$ subjects obtained by three students:\n",
        "\n",
        "|ID|Maths | Geography | English | Physics | Chemistry |\n",
        "|-|-|-|-|-|-|\n",
        "|x001|8|9|30|8|10|\n",
        "|x038|9|7|27|6||\n",
        "|x002|6|-1|18|5|6|\n",
        "|x012|7|7|25|4|10|\n",
        "|x042|10|10|30|10|10|\n",
        "\n",
        "We can find the different elements that we discussed about in this table:\n",
        "\n",
        "* **Observations**: each row of the table is an observation;\n",
        "* **Variables**: each column of a table is a different table, mapping an observation to a numerical value. In the example, above the variable ID is qualitative, while all others are quantitative, discrete, and ratio scale (they have a true zero);\n",
        "* **Features**: same as variables, each column is a \"feature\" or a characteristic of each observation;\n",
        "* **Samples and Populations**: the dataset can be seen as a sample (a subset of students) of a wider population (e.g., all students in the school);\n",
        "\n",
        "This kind of matrix is also called **design matrix**.\n",
        "\n",
        "Note that, due to the way the data was collected, one value is not there. We call these values **missing data**. These may be due to errors in the way we collected and stored our data or due to specific phenomena. For instance, in this case, the student may have not taken yet the test for that specific subject. We will see later how to deal with **missing data**.\n",
        "\n",
        "Before moving on, think for a moment what you could do with a dataset like this (maybe imagine a larger one):\n",
        "\n",
        "* You could take the average of all marks obtained by a student (average by rows) to get a ranking of the students. This could be useful to understand which students may need help.\n",
        "* You could compute the average of the votes obtained in each course (average by column) to identify the subjects which are \"more difficult\" for the students than others.\n",
        "* You could group the courses into humanity-based and science-based to identify which students excel in each field.\n",
        "\n",
        "The examples above are all (very simple) examples of data analysis. As you can see, even with a simple dataset like this and no knowledge of complex notions of data analysis, we can already do a lot of analysis.\n",
        "\n",
        "The \"table\" structure containing a dataset is often called a **data matrix** or a **design matrix**. In this format, each column of the matrix represents a variable, which is often also referred to as a **feature**, while each row is a different observation."
      ]
    },
    {
      "cell_type": "markdown",
      "metadata": {
        "id": "Wvwgp9IgnNpG"
      },
      "source": [
        "## Getting the Data\n",
        "\n",
        "![](https://github.com/antoninofurnari/fadlecturenotes/blob/master/lecturenotes//_static/lecture_specific/intro_data_analysis/gettingdata.png?raw=1)\n",
        "Data collection is the essential first step in any data analysis workflow. It involves gathering observations that will serve as the foundation for modeling, visualization, and interpretation. The method you choose depends on your goals, the type of data needed, and the resources available.\n",
        "\n",
        "### Surveys\n",
        "\n",
        "Surveys are structured tools used to collect information from individuals or groups. They typically involve asking predefined questions and are ideal for capturing opinions, preferences, demographics, or behavioral patterns.\n",
        "\n",
        "**Common formats**:  \n",
        "- Online forms\n",
        "- Paper questionnaires  \n",
        "- Phone or in-person interviews  \n",
        "\n",
        "**Example**:  \n",
        "A university wants to understand students' satisfaction with online courses. It distributes a digital survey asking students to rate their experience across different dimensions (e.g., content clarity, platform usability, instructor engagement).\n",
        "\n",
        "**Key features**:  \n",
        "- Standardized questions  \n",
        "- Scalable across large populations  \n",
        "- Quantifiable and analyzable responses\n",
        "\n",
        "### Experiments\n",
        "\n",
        "Experiments allow researchers to collect data in a **controlled** environment, often to test causal relationships between variables. By manipulating one or more independent variables and observing the outcome, experiments can provide strong evidence for cause-and-effect.\n",
        "\n",
        "**Most common type**:  \n",
        "- **Randomized Controlled Trials (RCTs)**\n",
        "\n",
        "**Example**:  \n",
        "To evaluate the effectiveness of a new drug, researchers randomly assign participants to two groups: one receives the drug, the other a placebo. Recovery rates are compared to assess the drug’s impact.\n",
        "\n",
        "**Key features**:  \n",
        "- Controlled manipulation of variables  \n",
        "- Random assignment to reduce bias  \n",
        "- Replicable design for hypothesis testing\n",
        "\n",
        "### Observational Data\n",
        "\n",
        "Observational methods involve recording data as it naturally occurs, without intervention. This approach is useful when experiments are impractical, unethical, or too costly.\n",
        "\n",
        "**Example**:  \n",
        "A public health researcher studies the impact of air pollution on respiratory health by analyzing hospital admission records and pollution levels across different cities.\n",
        "\n",
        "**Key features**:  \n",
        "- No manipulation of variables  \n",
        "- Captures real-world behavior  \n",
        "- Suitable for exploratory and correlational analysis\n",
        "\n",
        "### Online Data Sources\n",
        "\n",
        "In modern data science, many projects begin by retrieving data from online platforms and public repositories. These sources offer ready-to-use datasets for exploration, benchmarking, and model development.\n",
        "\n",
        "**Popular platforms**:  \n",
        "- [Kaggle](https://www.kaggle.com): competitions, datasets, notebooks  \n",
        "- [UCI Machine Learning Repository](https://archive.ics.uci.edu/ml/index.php)  \n",
        "- [Google Dataset Search](https://datasetsearch.research.google.com)  \n",
        "- APIs (e.g., Twitter, OpenWeather, Spotify)\n",
        "- Web scraping tools\n",
        "\n",
        "**Example**:  \n",
        "A student downloads a Kaggle dataset of movie reviews to train a sentiment analysis model using natural language processing.\n",
        "\n",
        "**Key features**:  \n",
        "- Fast access to diverse datasets  \n",
        "- Often pre-cleaned and well-documented  \n",
        "- Ideal for prototyping and learning"
      ]
    },
    {
      "cell_type": "markdown",
      "metadata": {
        "id": "X1-HJFG7nNpG"
      },
      "source": [
        "## Data Loading in Python\n",
        "We will now put our hands on a real dataset. We will consider the `Titanic` dataset, which is a popular dataset used in data science education and competitions. It contains information about passengers aboard the Titanic and whether they survived the disaster.\n",
        "\n",
        "This dataset is particularly useful for practicing data cleaning, exploratory data analysis, and predictive modeling. It includes both **qualitative** and **quantitative** variables, and offers a rich context for discussing missing data, bias, and causal inference.\n",
        "\n",
        "In the `Titanic` dataset, each row represents a passenger, and each column represents a variable describing that passenger. Common variables include:\n",
        "\n",
        "- `PassengerId`: Unique identifier for each passenger  \n",
        "- `Survived`: Whether the passenger survived (0 = No, 1 = Yes)  \n",
        "- `Pclass`: Ticket class (1st, 2nd, or 3rd)  \n",
        "- `Name`: Full name of the passenger  \n",
        "- `Sex`: Gender  \n",
        "- `Age`: Age in years  \n",
        "- `SibSp`: Number of siblings/spouses aboard  \n",
        "- `Parch`: Number of parents/children aboard  \n",
        "- `Ticket`: Ticket number  \n",
        "- `Fare`: Price paid for the ticket  \n",
        "- `Cabin`: Cabin number (often missing)  \n",
        "- `Embarked`: Port of embarkation (C = Cherbourg, Q = Queenstown, S = Southampton)\n",
        "\n",
        "The dataset is a good didactic example. Indeed:\n",
        "- It mixes **categorical** and **numerical** data  \n",
        "- It contains **missing values**, which are common in real-world datasets  \n",
        "- It allows us to explore **correlations** and build **classification models**  \n",
        "- It’s historically grounded, making it easier to interpret and explain\n",
        "\n",
        "In the next steps, we will:\n",
        "\n",
        "1. **Load the dataset** and inspect its structure  \n",
        "2. **Clean the data** by handling missing values and inconsistencies  \n",
        "3. **Explore the variables** using summary statistics and visualizations  \n",
        "4. **Build a simple model** to predict survival based on selected features\n",
        "\n",
        "We will start by loading the dataset using the Pandas library in Python. We will use a csv version of the dataset available at `https://raw.githubusercontent.com/agconti/kaggle-titanic/master/data/train.csv`.\n",
        "\n",
        "Before loading the data with Python, let's briefly point our browser to [https://raw.githubusercontent.com/agconti/kaggle-titanic/master/data/train.csv](https://raw.githubusercontent.com/agconti/kaggle-titanic/master/data/train.csv) to see the content.\n",
        "\n",
        "The data is in CSV format, meaning **Comma-Separated Values**. This is a plain text format where each line represents a row in the dataset, and each value (or cell) is separated by a comma.\n",
        "\n",
        "CSV files are widely used because they are:\n",
        "\n",
        "- Simple to read and write\n",
        "- Compatible with spreadsheet software like Excel or Google Sheets\n",
        "- Easily imported into programming environments like Python (e.g., using `pandas.read_csv()`)\n",
        "\n",
        "Here’s a small example of how a CSV file might look (first line of the dataset):\n",
        "\n",
        "```\n",
        "PassengerId,Survived,Pclass,Name,Sex,Age,SibSp,Parch,Ticket,Fare,Cabin,Embarked\n",
        "1,0,3,\"Braund, Mr. Owen Harris\",male,22,1,0,A/5 21171,7.25,,S\n",
        "2,1,1,\"Cumings, Mrs. John Bradley (Florence Briggs Thayer)\",female,38,1,0,PC 17599,71.2833,C85,C\n",
        "3,1,3,\"Heikkinen, Miss. Laina\",female,26,0,0,STON/O2. 3101282,7.925,,S\n",
        "4,1,1,\"Futrelle, Mrs. Jacques Heath (Lily May Peel)\",female,35,1,0,113803,53.1,C123,S\n",
        "5,0,3,\"Allen, Mr. William Henry\",male,35,0,0,373450,8.05,,S\n",
        "```\n",
        "\n",
        "Note that Pandas can also read other formats, such as tab separated values file and Excel files.\n",
        "\n",
        "Let's load and visualize the data:"
      ]
    },
    {
      "cell_type": "code",
      "execution_count": null,
      "metadata": {
        "id": "y6XEiqhpnNpH",
        "outputId": "e3c79d69-5991-4a15-ff62-63c6424f5c2c"
      },
      "outputs": [
        {
          "data": {
            "text/html": [
              "<div>\n",
              "<style scoped>\n",
              "    .dataframe tbody tr th:only-of-type {\n",
              "        vertical-align: middle;\n",
              "    }\n",
              "\n",
              "    .dataframe tbody tr th {\n",
              "        vertical-align: top;\n",
              "    }\n",
              "\n",
              "    .dataframe thead th {\n",
              "        text-align: right;\n",
              "    }\n",
              "</style>\n",
              "<table border=\"1\" class=\"dataframe\">\n",
              "  <thead>\n",
              "    <tr style=\"text-align: right;\">\n",
              "      <th></th>\n",
              "      <th>Survived</th>\n",
              "      <th>Pclass</th>\n",
              "      <th>Name</th>\n",
              "      <th>Sex</th>\n",
              "      <th>Age</th>\n",
              "      <th>SibSp</th>\n",
              "      <th>Parch</th>\n",
              "      <th>Ticket</th>\n",
              "      <th>Fare</th>\n",
              "      <th>Cabin</th>\n",
              "      <th>Embarked</th>\n",
              "    </tr>\n",
              "    <tr>\n",
              "      <th>PassengerId</th>\n",
              "      <th></th>\n",
              "      <th></th>\n",
              "      <th></th>\n",
              "      <th></th>\n",
              "      <th></th>\n",
              "      <th></th>\n",
              "      <th></th>\n",
              "      <th></th>\n",
              "      <th></th>\n",
              "      <th></th>\n",
              "      <th></th>\n",
              "    </tr>\n",
              "  </thead>\n",
              "  <tbody>\n",
              "    <tr>\n",
              "      <th>1</th>\n",
              "      <td>0</td>\n",
              "      <td>3</td>\n",
              "      <td>Braund, Mr. Owen Harris</td>\n",
              "      <td>male</td>\n",
              "      <td>22.0</td>\n",
              "      <td>1</td>\n",
              "      <td>0</td>\n",
              "      <td>A/5 21171</td>\n",
              "      <td>7.2500</td>\n",
              "      <td>NaN</td>\n",
              "      <td>S</td>\n",
              "    </tr>\n",
              "    <tr>\n",
              "      <th>2</th>\n",
              "      <td>1</td>\n",
              "      <td>1</td>\n",
              "      <td>Cumings, Mrs. John Bradley (Florence Briggs Th...</td>\n",
              "      <td>female</td>\n",
              "      <td>38.0</td>\n",
              "      <td>1</td>\n",
              "      <td>0</td>\n",
              "      <td>PC 17599</td>\n",
              "      <td>71.2833</td>\n",
              "      <td>C85</td>\n",
              "      <td>C</td>\n",
              "    </tr>\n",
              "    <tr>\n",
              "      <th>3</th>\n",
              "      <td>1</td>\n",
              "      <td>3</td>\n",
              "      <td>Heikkinen, Miss. Laina</td>\n",
              "      <td>female</td>\n",
              "      <td>26.0</td>\n",
              "      <td>0</td>\n",
              "      <td>0</td>\n",
              "      <td>STON/O2. 3101282</td>\n",
              "      <td>7.9250</td>\n",
              "      <td>NaN</td>\n",
              "      <td>S</td>\n",
              "    </tr>\n",
              "    <tr>\n",
              "      <th>4</th>\n",
              "      <td>1</td>\n",
              "      <td>1</td>\n",
              "      <td>Futrelle, Mrs. Jacques Heath (Lily May Peel)</td>\n",
              "      <td>female</td>\n",
              "      <td>35.0</td>\n",
              "      <td>1</td>\n",
              "      <td>0</td>\n",
              "      <td>113803</td>\n",
              "      <td>53.1000</td>\n",
              "      <td>C123</td>\n",
              "      <td>S</td>\n",
              "    </tr>\n",
              "    <tr>\n",
              "      <th>5</th>\n",
              "      <td>0</td>\n",
              "      <td>3</td>\n",
              "      <td>Allen, Mr. William Henry</td>\n",
              "      <td>male</td>\n",
              "      <td>35.0</td>\n",
              "      <td>0</td>\n",
              "      <td>0</td>\n",
              "      <td>373450</td>\n",
              "      <td>8.0500</td>\n",
              "      <td>NaN</td>\n",
              "      <td>S</td>\n",
              "    </tr>\n",
              "    <tr>\n",
              "      <th>...</th>\n",
              "      <td>...</td>\n",
              "      <td>...</td>\n",
              "      <td>...</td>\n",
              "      <td>...</td>\n",
              "      <td>...</td>\n",
              "      <td>...</td>\n",
              "      <td>...</td>\n",
              "      <td>...</td>\n",
              "      <td>...</td>\n",
              "      <td>...</td>\n",
              "      <td>...</td>\n",
              "    </tr>\n",
              "    <tr>\n",
              "      <th>887</th>\n",
              "      <td>0</td>\n",
              "      <td>2</td>\n",
              "      <td>Montvila, Rev. Juozas</td>\n",
              "      <td>male</td>\n",
              "      <td>27.0</td>\n",
              "      <td>0</td>\n",
              "      <td>0</td>\n",
              "      <td>211536</td>\n",
              "      <td>13.0000</td>\n",
              "      <td>NaN</td>\n",
              "      <td>S</td>\n",
              "    </tr>\n",
              "    <tr>\n",
              "      <th>888</th>\n",
              "      <td>1</td>\n",
              "      <td>1</td>\n",
              "      <td>Graham, Miss. Margaret Edith</td>\n",
              "      <td>female</td>\n",
              "      <td>19.0</td>\n",
              "      <td>0</td>\n",
              "      <td>0</td>\n",
              "      <td>112053</td>\n",
              "      <td>30.0000</td>\n",
              "      <td>B42</td>\n",
              "      <td>S</td>\n",
              "    </tr>\n",
              "    <tr>\n",
              "      <th>889</th>\n",
              "      <td>0</td>\n",
              "      <td>3</td>\n",
              "      <td>Johnston, Miss. Catherine Helen \"Carrie\"</td>\n",
              "      <td>female</td>\n",
              "      <td>NaN</td>\n",
              "      <td>1</td>\n",
              "      <td>2</td>\n",
              "      <td>W./C. 6607</td>\n",
              "      <td>23.4500</td>\n",
              "      <td>NaN</td>\n",
              "      <td>S</td>\n",
              "    </tr>\n",
              "    <tr>\n",
              "      <th>890</th>\n",
              "      <td>1</td>\n",
              "      <td>1</td>\n",
              "      <td>Behr, Mr. Karl Howell</td>\n",
              "      <td>male</td>\n",
              "      <td>26.0</td>\n",
              "      <td>0</td>\n",
              "      <td>0</td>\n",
              "      <td>111369</td>\n",
              "      <td>30.0000</td>\n",
              "      <td>C148</td>\n",
              "      <td>C</td>\n",
              "    </tr>\n",
              "    <tr>\n",
              "      <th>891</th>\n",
              "      <td>0</td>\n",
              "      <td>3</td>\n",
              "      <td>Dooley, Mr. Patrick</td>\n",
              "      <td>male</td>\n",
              "      <td>32.0</td>\n",
              "      <td>0</td>\n",
              "      <td>0</td>\n",
              "      <td>370376</td>\n",
              "      <td>7.7500</td>\n",
              "      <td>NaN</td>\n",
              "      <td>Q</td>\n",
              "    </tr>\n",
              "  </tbody>\n",
              "</table>\n",
              "<p>891 rows × 11 columns</p>\n",
              "</div>"
            ],
            "text/plain": [
              "             Survived  Pclass  \\\n",
              "PassengerId                     \n",
              "1                   0       3   \n",
              "2                   1       1   \n",
              "3                   1       3   \n",
              "4                   1       1   \n",
              "5                   0       3   \n",
              "...               ...     ...   \n",
              "887                 0       2   \n",
              "888                 1       1   \n",
              "889                 0       3   \n",
              "890                 1       1   \n",
              "891                 0       3   \n",
              "\n",
              "                                                          Name     Sex   Age  \\\n",
              "PassengerId                                                                    \n",
              "1                                      Braund, Mr. Owen Harris    male  22.0   \n",
              "2            Cumings, Mrs. John Bradley (Florence Briggs Th...  female  38.0   \n",
              "3                                       Heikkinen, Miss. Laina  female  26.0   \n",
              "4                 Futrelle, Mrs. Jacques Heath (Lily May Peel)  female  35.0   \n",
              "5                                     Allen, Mr. William Henry    male  35.0   \n",
              "...                                                        ...     ...   ...   \n",
              "887                                      Montvila, Rev. Juozas    male  27.0   \n",
              "888                               Graham, Miss. Margaret Edith  female  19.0   \n",
              "889                   Johnston, Miss. Catherine Helen \"Carrie\"  female   NaN   \n",
              "890                                      Behr, Mr. Karl Howell    male  26.0   \n",
              "891                                        Dooley, Mr. Patrick    male  32.0   \n",
              "\n",
              "             SibSp  Parch            Ticket     Fare Cabin Embarked  \n",
              "PassengerId                                                          \n",
              "1                1      0         A/5 21171   7.2500   NaN        S  \n",
              "2                1      0          PC 17599  71.2833   C85        C  \n",
              "3                0      0  STON/O2. 3101282   7.9250   NaN        S  \n",
              "4                1      0            113803  53.1000  C123        S  \n",
              "5                0      0            373450   8.0500   NaN        S  \n",
              "...            ...    ...               ...      ...   ...      ...  \n",
              "887              0      0            211536  13.0000   NaN        S  \n",
              "888              0      0            112053  30.0000   B42        S  \n",
              "889              1      2        W./C. 6607  23.4500   NaN        S  \n",
              "890              0      0            111369  30.0000  C148        C  \n",
              "891              0      0            370376   7.7500   NaN        Q  \n",
              "\n",
              "[891 rows x 11 columns]"
            ]
          },
          "execution_count": 3,
          "metadata": {},
          "output_type": "execute_result"
        }
      ],
      "source": [
        "import pandas as pd\n",
        "titanic = pd.read_csv('https://raw.githubusercontent.com/agconti/kaggle-titanic/master/data/train.csv',\n",
        "                     index_col='PassengerId')\n",
        "titanic"
      ]
    },
    {
      "cell_type": "markdown",
      "metadata": {
        "id": "o5daTdH6nNpI"
      },
      "source": [
        "As you can see, the visualization has been truncated, removing some rows, as the dataset is big. Another way to visualize such big dataset is to use the `.head()` method, optionally specifying a number of rows to be shown (5 by default):"
      ]
    },
    {
      "cell_type": "code",
      "execution_count": null,
      "metadata": {
        "id": "fxLok0QwnNpI",
        "outputId": "0a558e11-7c97-4cb0-f6c1-9b9022d5b46e"
      },
      "outputs": [
        {
          "data": {
            "text/html": [
              "<div>\n",
              "<style scoped>\n",
              "    .dataframe tbody tr th:only-of-type {\n",
              "        vertical-align: middle;\n",
              "    }\n",
              "\n",
              "    .dataframe tbody tr th {\n",
              "        vertical-align: top;\n",
              "    }\n",
              "\n",
              "    .dataframe thead th {\n",
              "        text-align: right;\n",
              "    }\n",
              "</style>\n",
              "<table border=\"1\" class=\"dataframe\">\n",
              "  <thead>\n",
              "    <tr style=\"text-align: right;\">\n",
              "      <th></th>\n",
              "      <th>Survived</th>\n",
              "      <th>Pclass</th>\n",
              "      <th>Name</th>\n",
              "      <th>Sex</th>\n",
              "      <th>Age</th>\n",
              "      <th>SibSp</th>\n",
              "      <th>Parch</th>\n",
              "      <th>Ticket</th>\n",
              "      <th>Fare</th>\n",
              "      <th>Cabin</th>\n",
              "      <th>Embarked</th>\n",
              "    </tr>\n",
              "    <tr>\n",
              "      <th>PassengerId</th>\n",
              "      <th></th>\n",
              "      <th></th>\n",
              "      <th></th>\n",
              "      <th></th>\n",
              "      <th></th>\n",
              "      <th></th>\n",
              "      <th></th>\n",
              "      <th></th>\n",
              "      <th></th>\n",
              "      <th></th>\n",
              "      <th></th>\n",
              "    </tr>\n",
              "  </thead>\n",
              "  <tbody>\n",
              "    <tr>\n",
              "      <th>1</th>\n",
              "      <td>0</td>\n",
              "      <td>3</td>\n",
              "      <td>Braund, Mr. Owen Harris</td>\n",
              "      <td>male</td>\n",
              "      <td>22.0</td>\n",
              "      <td>1</td>\n",
              "      <td>0</td>\n",
              "      <td>A/5 21171</td>\n",
              "      <td>7.2500</td>\n",
              "      <td>NaN</td>\n",
              "      <td>S</td>\n",
              "    </tr>\n",
              "    <tr>\n",
              "      <th>2</th>\n",
              "      <td>1</td>\n",
              "      <td>1</td>\n",
              "      <td>Cumings, Mrs. John Bradley (Florence Briggs Th...</td>\n",
              "      <td>female</td>\n",
              "      <td>38.0</td>\n",
              "      <td>1</td>\n",
              "      <td>0</td>\n",
              "      <td>PC 17599</td>\n",
              "      <td>71.2833</td>\n",
              "      <td>C85</td>\n",
              "      <td>C</td>\n",
              "    </tr>\n",
              "    <tr>\n",
              "      <th>3</th>\n",
              "      <td>1</td>\n",
              "      <td>3</td>\n",
              "      <td>Heikkinen, Miss. Laina</td>\n",
              "      <td>female</td>\n",
              "      <td>26.0</td>\n",
              "      <td>0</td>\n",
              "      <td>0</td>\n",
              "      <td>STON/O2. 3101282</td>\n",
              "      <td>7.9250</td>\n",
              "      <td>NaN</td>\n",
              "      <td>S</td>\n",
              "    </tr>\n",
              "    <tr>\n",
              "      <th>4</th>\n",
              "      <td>1</td>\n",
              "      <td>1</td>\n",
              "      <td>Futrelle, Mrs. Jacques Heath (Lily May Peel)</td>\n",
              "      <td>female</td>\n",
              "      <td>35.0</td>\n",
              "      <td>1</td>\n",
              "      <td>0</td>\n",
              "      <td>113803</td>\n",
              "      <td>53.1000</td>\n",
              "      <td>C123</td>\n",
              "      <td>S</td>\n",
              "    </tr>\n",
              "    <tr>\n",
              "      <th>5</th>\n",
              "      <td>0</td>\n",
              "      <td>3</td>\n",
              "      <td>Allen, Mr. William Henry</td>\n",
              "      <td>male</td>\n",
              "      <td>35.0</td>\n",
              "      <td>0</td>\n",
              "      <td>0</td>\n",
              "      <td>373450</td>\n",
              "      <td>8.0500</td>\n",
              "      <td>NaN</td>\n",
              "      <td>S</td>\n",
              "    </tr>\n",
              "  </tbody>\n",
              "</table>\n",
              "</div>"
            ],
            "text/plain": [
              "             Survived  Pclass  \\\n",
              "PassengerId                     \n",
              "1                   0       3   \n",
              "2                   1       1   \n",
              "3                   1       3   \n",
              "4                   1       1   \n",
              "5                   0       3   \n",
              "\n",
              "                                                          Name     Sex   Age  \\\n",
              "PassengerId                                                                    \n",
              "1                                      Braund, Mr. Owen Harris    male  22.0   \n",
              "2            Cumings, Mrs. John Bradley (Florence Briggs Th...  female  38.0   \n",
              "3                                       Heikkinen, Miss. Laina  female  26.0   \n",
              "4                 Futrelle, Mrs. Jacques Heath (Lily May Peel)  female  35.0   \n",
              "5                                     Allen, Mr. William Henry    male  35.0   \n",
              "\n",
              "             SibSp  Parch            Ticket     Fare Cabin Embarked  \n",
              "PassengerId                                                          \n",
              "1                1      0         A/5 21171   7.2500   NaN        S  \n",
              "2                1      0          PC 17599  71.2833   C85        C  \n",
              "3                0      0  STON/O2. 3101282   7.9250   NaN        S  \n",
              "4                1      0            113803  53.1000  C123        S  \n",
              "5                0      0            373450   8.0500   NaN        S  "
            ]
          },
          "execution_count": 11,
          "metadata": {},
          "output_type": "execute_result"
        }
      ],
      "source": [
        "titanic.head()"
      ]
    },
    {
      "cell_type": "markdown",
      "metadata": {
        "id": "UVcBOuUonNpJ"
      },
      "source": [
        "The dataset shows different observations related to the passengers of the Titanic. We can see each row of this matrix as a multi-dimensional variable (a vector) summarizing the main properties of the observations. Indeed, in the example above, each passenger is a different observation, while the different column are the different **features**.\n",
        "\n",
        "The `NaN` values denote missing data.\n",
        "\n",
        "With this data in front of us, let's try to answer these questions:\n",
        "* How many observations are there?\n",
        "* How many variables are there?\n",
        "* Which variables are qualitative?\n",
        "* Which variables are quantitative?\n",
        "* Which variables are discrete?\n",
        "* Which variables are continuous?\n",
        "* What are the scales of each variable?"
      ]
    },
    {
      "cell_type": "markdown",
      "metadata": {
        "id": "VB_MqWh-nNpJ"
      },
      "source": [
        "To make our life easier answering those questions, we can use the `.info()` method of the Pandas dataframe:"
      ]
    },
    {
      "cell_type": "code",
      "execution_count": null,
      "metadata": {
        "id": "jVZT8wC9nNpJ",
        "outputId": "be8804fc-8602-4e88-db44-c8b5c978da96"
      },
      "outputs": [
        {
          "name": "stdout",
          "output_type": "stream",
          "text": [
            "<class 'pandas.core.frame.DataFrame'>\n",
            "Index: 891 entries, 1 to 891\n",
            "Data columns (total 11 columns):\n",
            " #   Column    Non-Null Count  Dtype  \n",
            "---  ------    --------------  -----  \n",
            " 0   Survived  891 non-null    int64  \n",
            " 1   Pclass    891 non-null    int64  \n",
            " 2   Name      891 non-null    object \n",
            " 3   Sex       891 non-null    object \n",
            " 4   Age       714 non-null    float64\n",
            " 5   SibSp     891 non-null    int64  \n",
            " 6   Parch     891 non-null    int64  \n",
            " 7   Ticket    891 non-null    object \n",
            " 8   Fare      891 non-null    float64\n",
            " 9   Cabin     204 non-null    object \n",
            " 10  Embarked  889 non-null    object \n",
            "dtypes: float64(2), int64(4), object(5)\n",
            "memory usage: 115.8+ KB\n"
          ]
        }
      ],
      "source": [
        "titanic.info()"
      ]
    },
    {
      "cell_type": "markdown",
      "metadata": {
        "id": "a_KcAyw_nNpJ"
      },
      "source": [
        "This table shows some features of each column, including the name, the number of non-null (non missing) data and the type of the column."
      ]
    },
    {
      "cell_type": "markdown",
      "metadata": {
        "id": "fZ9fIDRwnNpJ"
      },
      "source": [
        "In this dataset, each observation is identified by the `PassengerId` variable, which is a qualitative discrete variable. This act as an \"index\" of the dataset, which is also called a \"DataFrame\" in Pandas. We can verify this as follows:"
      ]
    },
    {
      "cell_type": "code",
      "execution_count": null,
      "metadata": {
        "id": "XJvh45UhnNpK",
        "outputId": "0339f1aa-7618-4d90-cac1-f72411021b61"
      },
      "outputs": [
        {
          "data": {
            "text/plain": [
              "Index([  1,   2,   3,   4,   5,   6,   7,   8,   9,  10,\n",
              "       ...\n",
              "       882, 883, 884, 885, 886, 887, 888, 889, 890, 891],\n",
              "      dtype='int64', name='PassengerId', length=891)"
            ]
          },
          "execution_count": 4,
          "metadata": {},
          "output_type": "execute_result"
        }
      ],
      "source": [
        "titanic.index"
      ]
    },
    {
      "cell_type": "markdown",
      "metadata": {
        "id": "SZDWs96XnNpK"
      },
      "source": [
        "We can select a single observation using this notation:"
      ]
    },
    {
      "cell_type": "code",
      "execution_count": null,
      "metadata": {
        "id": "shRjOKhBnNpK",
        "outputId": "f7159ac3-a322-4095-9014-68cf56635350"
      },
      "outputs": [
        {
          "data": {
            "text/plain": [
              "Survived                          0\n",
              "Pclass                            3\n",
              "Name        Petranec, Miss. Matilda\n",
              "Sex                          female\n",
              "Age                            28.0\n",
              "SibSp                             0\n",
              "Parch                             0\n",
              "Ticket                       349245\n",
              "Fare                         7.8958\n",
              "Cabin                           NaN\n",
              "Embarked                          S\n",
              "Name: 101, dtype: object"
            ]
          },
          "execution_count": 7,
          "metadata": {},
          "output_type": "execute_result"
        }
      ],
      "source": [
        "titanic.loc[101]"
      ]
    },
    {
      "cell_type": "markdown",
      "metadata": {
        "id": "7DYlM-tRnNpK"
      },
      "source": [
        "A row of a DataFrame is a Pandas Series, which is a one-dimensional array-like object. Each element of the Series corresponds to a column in the DataFrame, and the index of the Series corresponds to the column names.\n",
        "\n",
        "As we can see, the observation contains different \"features\" or variable values, such as the Name, Sex, Age etc. of the passenger. The property \"Name\" of the Series denotes the value of the index. We can access a given feature as follows:"
      ]
    },
    {
      "cell_type": "code",
      "execution_count": null,
      "metadata": {
        "id": "rWIaS0UsnNpK",
        "outputId": "536dd72e-a673-4fb3-e475-a92c5e816e11"
      },
      "outputs": [
        {
          "data": {
            "text/plain": [
              "'Petranec, Miss. Matilda'"
            ]
          },
          "execution_count": 8,
          "metadata": {},
          "output_type": "execute_result"
        }
      ],
      "source": [
        "titanic.loc[101]['Name']"
      ]
    },
    {
      "cell_type": "markdown",
      "metadata": {
        "id": "k7NNafwPnNpK"
      },
      "source": [
        "Note that we can discard the index and just take the i-th element in order with the following notation:"
      ]
    },
    {
      "cell_type": "code",
      "execution_count": null,
      "metadata": {
        "id": "huj47cssnNpK",
        "outputId": "a39d9be2-bd83-4e8e-f20c-9e124ee20fe4"
      },
      "outputs": [
        {
          "data": {
            "text/plain": [
              "Survived                                   0\n",
              "Pclass                                     3\n",
              "Name        Petroff, Mr. Pastcho (\"Pentcho\")\n",
              "Sex                                     male\n",
              "Age                                      NaN\n",
              "SibSp                                      0\n",
              "Parch                                      0\n",
              "Ticket                                349215\n",
              "Fare                                  7.8958\n",
              "Cabin                                    NaN\n",
              "Embarked                                   S\n",
              "Name: 102, dtype: object"
            ]
          },
          "execution_count": 9,
          "metadata": {},
          "output_type": "execute_result"
        }
      ],
      "source": [
        "titanic.iloc[101]"
      ]
    },
    {
      "cell_type": "markdown",
      "metadata": {
        "id": "rf50WTf8nNpK"
      },
      "source": [
        "As we can see, this returned a different observation (the one with id/Name equal to $102$).\n",
        "\n",
        "We can extract a given column from the dataset using this notation:"
      ]
    },
    {
      "cell_type": "code",
      "execution_count": null,
      "metadata": {
        "id": "sWBGV5S3nNpK",
        "outputId": "f16a2ea1-7cca-4d84-f8cc-a1c1fc8cb4d5"
      },
      "outputs": [
        {
          "data": {
            "text/plain": [
              "PassengerId\n",
              "1      22.0\n",
              "2      38.0\n",
              "3      26.0\n",
              "4      35.0\n",
              "5      35.0\n",
              "       ... \n",
              "887    27.0\n",
              "888    19.0\n",
              "889     NaN\n",
              "890    26.0\n",
              "891    32.0\n",
              "Name: Age, Length: 891, dtype: float64"
            ]
          },
          "execution_count": 10,
          "metadata": {},
          "output_type": "execute_result"
        }
      ],
      "source": [
        "titanic['Age']"
      ]
    },
    {
      "cell_type": "markdown",
      "metadata": {
        "id": "qN0Lj8-TnNpK"
      },
      "source": [
        "This is still a Pandas series, but this time it represents an **uni-variate** sample."
      ]
    },
    {
      "cell_type": "markdown",
      "metadata": {
        "id": "0E6wpNIjnNpK"
      },
      "source": [
        "## Data Wrangling (or Data Munging)\n",
        "![](https://github.com/antoninofurnari/fadlecturenotes/blob/master/lecturenotes//_static/lecture_specific/intro_data_analysis/wrangling.png?raw=1)\n",
        "Data never comes perfectly clean or ready to use. Real-world datasets often contain missing values, inconsistent formats, outliers, or irrelevant information. **Data wrangling** is the process of transforming raw data into a structured and usable format—preparing it for analysis or modeling. This may involve tasks such as renaming columns, converting data types, handling null values, filtering rows, or creating new features. Good wrangling is essential: it ensures that the insights we extract are based on reliable, well-organized information.\n",
        "\n",
        "Data wrangling is an unstructured and varied process. We will get back on it multiple times, but here are the main concepts which is good to know:\n",
        "\n",
        "### Handling Missing Values\n",
        "\n",
        "Real-world datasets often contain missing entries. These can appear as empty cells, `NaN`, or placeholders like `?`.\n",
        "\n",
        "**Titanic example**:  \n",
        "The `Age` and `Cabin` columns contain missing values.  \n",
        "We can choose to:\n",
        "- Remove rows with missing data (`dropna`)\n",
        "- Fill them with a default or statistical value (`fillna`)\n",
        "- Flag them as missing and treat them separately\n",
        "\n",
        "For instance, we can obtain a dataset free of `NaN` values as follows:"
      ]
    },
    {
      "cell_type": "code",
      "execution_count": null,
      "metadata": {
        "id": "mABtsYr2nNpL",
        "outputId": "1f3d2fcb-f8cd-4c30-aca3-3e79d80236cb"
      },
      "outputs": [
        {
          "name": "stdout",
          "output_type": "stream",
          "text": [
            "<class 'pandas.core.frame.DataFrame'>\n",
            "Index: 183 entries, 2 to 890\n",
            "Data columns (total 11 columns):\n",
            " #   Column    Non-Null Count  Dtype  \n",
            "---  ------    --------------  -----  \n",
            " 0   Survived  183 non-null    int64  \n",
            " 1   Pclass    183 non-null    int64  \n",
            " 2   Name      183 non-null    object \n",
            " 3   Sex       183 non-null    object \n",
            " 4   Age       183 non-null    float64\n",
            " 5   SibSp     183 non-null    int64  \n",
            " 6   Parch     183 non-null    int64  \n",
            " 7   Ticket    183 non-null    object \n",
            " 8   Fare      183 non-null    float64\n",
            " 9   Cabin     183 non-null    object \n",
            " 10  Embarked  183 non-null    object \n",
            "dtypes: float64(2), int64(4), object(5)\n",
            "memory usage: 17.2+ KB\n"
          ]
        },
        {
          "data": {
            "text/html": [
              "<div>\n",
              "<style scoped>\n",
              "    .dataframe tbody tr th:only-of-type {\n",
              "        vertical-align: middle;\n",
              "    }\n",
              "\n",
              "    .dataframe tbody tr th {\n",
              "        vertical-align: top;\n",
              "    }\n",
              "\n",
              "    .dataframe thead th {\n",
              "        text-align: right;\n",
              "    }\n",
              "</style>\n",
              "<table border=\"1\" class=\"dataframe\">\n",
              "  <thead>\n",
              "    <tr style=\"text-align: right;\">\n",
              "      <th></th>\n",
              "      <th>Survived</th>\n",
              "      <th>Pclass</th>\n",
              "      <th>Name</th>\n",
              "      <th>Sex</th>\n",
              "      <th>Age</th>\n",
              "      <th>SibSp</th>\n",
              "      <th>Parch</th>\n",
              "      <th>Ticket</th>\n",
              "      <th>Fare</th>\n",
              "      <th>Cabin</th>\n",
              "      <th>Embarked</th>\n",
              "    </tr>\n",
              "    <tr>\n",
              "      <th>PassengerId</th>\n",
              "      <th></th>\n",
              "      <th></th>\n",
              "      <th></th>\n",
              "      <th></th>\n",
              "      <th></th>\n",
              "      <th></th>\n",
              "      <th></th>\n",
              "      <th></th>\n",
              "      <th></th>\n",
              "      <th></th>\n",
              "      <th></th>\n",
              "    </tr>\n",
              "  </thead>\n",
              "  <tbody>\n",
              "    <tr>\n",
              "      <th>2</th>\n",
              "      <td>1</td>\n",
              "      <td>1</td>\n",
              "      <td>Cumings, Mrs. John Bradley (Florence Briggs Th...</td>\n",
              "      <td>female</td>\n",
              "      <td>38.0</td>\n",
              "      <td>1</td>\n",
              "      <td>0</td>\n",
              "      <td>PC 17599</td>\n",
              "      <td>71.2833</td>\n",
              "      <td>C85</td>\n",
              "      <td>C</td>\n",
              "    </tr>\n",
              "    <tr>\n",
              "      <th>4</th>\n",
              "      <td>1</td>\n",
              "      <td>1</td>\n",
              "      <td>Futrelle, Mrs. Jacques Heath (Lily May Peel)</td>\n",
              "      <td>female</td>\n",
              "      <td>35.0</td>\n",
              "      <td>1</td>\n",
              "      <td>0</td>\n",
              "      <td>113803</td>\n",
              "      <td>53.1000</td>\n",
              "      <td>C123</td>\n",
              "      <td>S</td>\n",
              "    </tr>\n",
              "    <tr>\n",
              "      <th>7</th>\n",
              "      <td>0</td>\n",
              "      <td>1</td>\n",
              "      <td>McCarthy, Mr. Timothy J</td>\n",
              "      <td>male</td>\n",
              "      <td>54.0</td>\n",
              "      <td>0</td>\n",
              "      <td>0</td>\n",
              "      <td>17463</td>\n",
              "      <td>51.8625</td>\n",
              "      <td>E46</td>\n",
              "      <td>S</td>\n",
              "    </tr>\n",
              "    <tr>\n",
              "      <th>11</th>\n",
              "      <td>1</td>\n",
              "      <td>3</td>\n",
              "      <td>Sandstrom, Miss. Marguerite Rut</td>\n",
              "      <td>female</td>\n",
              "      <td>4.0</td>\n",
              "      <td>1</td>\n",
              "      <td>1</td>\n",
              "      <td>PP 9549</td>\n",
              "      <td>16.7000</td>\n",
              "      <td>G6</td>\n",
              "      <td>S</td>\n",
              "    </tr>\n",
              "    <tr>\n",
              "      <th>12</th>\n",
              "      <td>1</td>\n",
              "      <td>1</td>\n",
              "      <td>Bonnell, Miss. Elizabeth</td>\n",
              "      <td>female</td>\n",
              "      <td>58.0</td>\n",
              "      <td>0</td>\n",
              "      <td>0</td>\n",
              "      <td>113783</td>\n",
              "      <td>26.5500</td>\n",
              "      <td>C103</td>\n",
              "      <td>S</td>\n",
              "    </tr>\n",
              "  </tbody>\n",
              "</table>\n",
              "</div>"
            ],
            "text/plain": [
              "             Survived  Pclass  \\\n",
              "PassengerId                     \n",
              "2                   1       1   \n",
              "4                   1       1   \n",
              "7                   0       1   \n",
              "11                  1       3   \n",
              "12                  1       1   \n",
              "\n",
              "                                                          Name     Sex   Age  \\\n",
              "PassengerId                                                                    \n",
              "2            Cumings, Mrs. John Bradley (Florence Briggs Th...  female  38.0   \n",
              "4                 Futrelle, Mrs. Jacques Heath (Lily May Peel)  female  35.0   \n",
              "7                                      McCarthy, Mr. Timothy J    male  54.0   \n",
              "11                             Sandstrom, Miss. Marguerite Rut  female   4.0   \n",
              "12                                    Bonnell, Miss. Elizabeth  female  58.0   \n",
              "\n",
              "             SibSp  Parch    Ticket     Fare Cabin Embarked  \n",
              "PassengerId                                                  \n",
              "2                1      0  PC 17599  71.2833   C85        C  \n",
              "4                1      0    113803  53.1000  C123        S  \n",
              "7                0      0     17463  51.8625   E46        S  \n",
              "11               1      1   PP 9549  16.7000    G6        S  \n",
              "12               0      0    113783  26.5500  C103        S  "
            ]
          },
          "execution_count": 15,
          "metadata": {},
          "output_type": "execute_result"
        }
      ],
      "source": [
        "titanic_clean = titanic.dropna()\n",
        "titanic_clean.info()\n",
        "titanic_clean.head()"
      ]
    },
    {
      "cell_type": "markdown",
      "metadata": {
        "id": "7Btt_PPRnNpL"
      },
      "source": [
        "The dataset is now super-clean, but also very smaller (183 rows vs 891!). This is due to the fact that we removed all rows containing at least one missing value. This is often not a good idea, as we may loose a lot of data.\n",
        "\n",
        "If we are working with a specific variable, we may want to **first select it, then remove missing values**. For example:"
      ]
    },
    {
      "cell_type": "code",
      "execution_count": null,
      "metadata": {
        "id": "XXDfkRWwnNpL",
        "outputId": "d731ff27-048d-48de-e1a7-4475544f9ef6"
      },
      "outputs": [
        {
          "name": "stdout",
          "output_type": "stream",
          "text": [
            "<class 'pandas.core.series.Series'>\n",
            "Index: 714 entries, 1 to 891\n",
            "Series name: Age\n",
            "Non-Null Count  Dtype  \n",
            "--------------  -----  \n",
            "714 non-null    float64\n",
            "dtypes: float64(1)\n",
            "memory usage: 11.2 KB\n"
          ]
        },
        {
          "data": {
            "text/plain": [
              "PassengerId\n",
              "1    22.0\n",
              "2    38.0\n",
              "3    26.0\n",
              "4    35.0\n",
              "5    35.0\n",
              "Name: Age, dtype: float64"
            ]
          },
          "execution_count": 16,
          "metadata": {},
          "output_type": "execute_result"
        }
      ],
      "source": [
        "age_clean = titanic['Age'].dropna()\n",
        "age_clean.info()\n",
        "age_clean.head()"
      ]
    },
    {
      "cell_type": "markdown",
      "metadata": {
        "id": "xb_hxML_nNpL"
      },
      "source": [
        "We have a much larger sample with 714 elements."
      ]
    },
    {
      "cell_type": "markdown",
      "metadata": {
        "id": "0H-Cqwy-nNpL"
      },
      "source": [
        "A third way to handle missing values is to **fill them in**. For example, we can replace missing ages with the average age:"
      ]
    },
    {
      "cell_type": "code",
      "execution_count": null,
      "metadata": {
        "id": "yacSY203nNpL",
        "outputId": "270d5c03-8d1a-4186-ff26-77ba581851de"
      },
      "outputs": [
        {
          "name": "stdout",
          "output_type": "stream",
          "text": [
            "<class 'pandas.core.series.Series'>\n",
            "Index: 891 entries, 1 to 891\n",
            "Series name: Age\n",
            "Non-Null Count  Dtype  \n",
            "--------------  -----  \n",
            "891 non-null    float64\n",
            "dtypes: float64(1)\n",
            "memory usage: 46.2 KB\n"
          ]
        },
        {
          "data": {
            "text/plain": [
              "PassengerId\n",
              "1    22.0\n",
              "2    38.0\n",
              "3    26.0\n",
              "4    35.0\n",
              "5    35.0\n",
              "Name: Age, dtype: float64"
            ]
          },
          "execution_count": 17,
          "metadata": {},
          "output_type": "execute_result"
        }
      ],
      "source": [
        "age_clean2 = titanic['Age'].fillna(titanic['Age'].mean())\n",
        "age_clean2.info()\n",
        "age_clean2.head()"
      ]
    },
    {
      "cell_type": "markdown",
      "metadata": {
        "id": "WVUHcpzHnNpL"
      },
      "source": [
        "We now have 891 entries and no missing data.\n",
        "\n",
        "We can also mix the different strategies depending on the variables. For instance, replacing ages with the mean age may make sense, but we cannot do the same with `Cabin`. Let's see an example to get rid of missing value with a mix of techniques:"
      ]
    },
    {
      "cell_type": "code",
      "execution_count": null,
      "metadata": {
        "id": "72fKWZLcnNpL",
        "outputId": "e526b03c-34f1-46fb-bf6c-4c6b7e213f9b"
      },
      "outputs": [
        {
          "name": "stdout",
          "output_type": "stream",
          "text": [
            "<class 'pandas.core.frame.DataFrame'>\n",
            "Index: 891 entries, 1 to 891\n",
            "Data columns (total 11 columns):\n",
            " #   Column    Non-Null Count  Dtype  \n",
            "---  ------    --------------  -----  \n",
            " 0   Survived  891 non-null    int64  \n",
            " 1   Pclass    891 non-null    int64  \n",
            " 2   Name      891 non-null    object \n",
            " 3   Sex       891 non-null    object \n",
            " 4   Age       891 non-null    float64\n",
            " 5   SibSp     891 non-null    int64  \n",
            " 6   Parch     891 non-null    int64  \n",
            " 7   Ticket    891 non-null    object \n",
            " 8   Fare      891 non-null    float64\n",
            " 9   Cabin     891 non-null    object \n",
            " 10  Embarked  889 non-null    object \n",
            "dtypes: float64(2), int64(4), object(5)\n",
            "memory usage: 115.8+ KB\n"
          ]
        }
      ],
      "source": [
        "titanic2 = titanic.copy() # to avoid modifying the original dataset\n",
        "titanic2['Age'] = titanic2['Age'].fillna(titanic2['Age'].mean())\n",
        "titanic2['Cabin'] = titanic2['Cabin'].fillna('Unknown')\n",
        "titanic2.info()"
      ]
    },
    {
      "cell_type": "markdown",
      "metadata": {
        "id": "e7-BAuYSnNpL"
      },
      "source": [
        "In practice, we filled age with the mean value, but marked all missing Cabin with \"Unknown\"."
      ]
    },
    {
      "cell_type": "markdown",
      "metadata": {
        "id": "40F0BWYdnNpL"
      },
      "source": [
        "### Converting Data Types\n",
        "\n",
        "Sometimes we need to convert columns to the correct type—especially when reading from CSV files.\n",
        "\n",
        "**Titanic example**:  \n",
        "Convert `Pclass` from integer to categorical using `astype('category')`.\n",
        "\n",
        "Let's first inspect the type of the `Pclass` variable. This can be done with info, but also with dtype as follows:"
      ]
    },
    {
      "cell_type": "code",
      "execution_count": null,
      "metadata": {
        "id": "S8p4Hhs9nNpM",
        "outputId": "ca9bfdab-90bc-44ed-a03c-3265a4003d32"
      },
      "outputs": [
        {
          "data": {
            "text/plain": [
              "dtype('int64')"
            ]
          },
          "execution_count": 23,
          "metadata": {},
          "output_type": "execute_result"
        }
      ],
      "source": [
        "titanic2['Pclass'].dtype"
      ]
    },
    {
      "cell_type": "markdown",
      "metadata": {
        "id": "nBm3wnvwnNpM"
      },
      "source": [
        "While we have an integer value, this represents the class of passengers, so it probably contains only few unique values. Let's check this by seeing the unique values of the column (without duplicates):"
      ]
    },
    {
      "cell_type": "code",
      "execution_count": null,
      "metadata": {
        "id": "ruyznSKznNpM",
        "outputId": "9f5bf8d0-ca58-4887-b4f2-987b43385dce"
      },
      "outputs": [
        {
          "data": {
            "text/plain": [
              "array([3, 1, 2])"
            ]
          },
          "execution_count": 24,
          "metadata": {},
          "output_type": "execute_result"
        }
      ],
      "source": [
        "titanic2['Pclass'].unique()"
      ]
    },
    {
      "cell_type": "markdown",
      "metadata": {
        "id": "N5Pva_PpnNpM"
      },
      "source": [
        "It does make sense to convert this to a categorical variable (a nominal variable). Let's do it as follows:"
      ]
    },
    {
      "cell_type": "code",
      "execution_count": null,
      "metadata": {
        "id": "li0LcOUtnNpM",
        "outputId": "8c60855a-45d5-4342-b1d2-b35ad92bb4c6"
      },
      "outputs": [
        {
          "name": "stdout",
          "output_type": "stream",
          "text": [
            "<class 'pandas.core.frame.DataFrame'>\n",
            "Index: 891 entries, 1 to 891\n",
            "Data columns (total 11 columns):\n",
            " #   Column    Non-Null Count  Dtype   \n",
            "---  ------    --------------  -----   \n",
            " 0   Survived  891 non-null    int64   \n",
            " 1   Pclass    891 non-null    category\n",
            " 2   Name      891 non-null    object  \n",
            " 3   Sex       891 non-null    object  \n",
            " 4   Age       891 non-null    float64 \n",
            " 5   SibSp     891 non-null    int64   \n",
            " 6   Parch     891 non-null    int64   \n",
            " 7   Ticket    891 non-null    object  \n",
            " 8   Fare      891 non-null    float64 \n",
            " 9   Cabin     891 non-null    object  \n",
            " 10  Embarked  889 non-null    object  \n",
            "dtypes: category(1), float64(2), int64(3), object(5)\n",
            "memory usage: 109.9+ KB\n"
          ]
        }
      ],
      "source": [
        "titanic2['Pclass'] = titanic2['Pclass'].astype('category')\n",
        "titanic2.info()"
      ]
    },
    {
      "cell_type": "markdown",
      "metadata": {
        "id": "3p6L7fNRnNpP"
      },
      "source": [
        "### Renaming and Reformatting\n",
        "\n",
        "Clean, consistent column names make analysis easier.  \n",
        "You might want to rename columns, standardize formats, or strip whitespace.\n",
        "\n",
        "**Titanic example**:  \n",
        "Rename `SibSp` to `SiblingsSpouses` for clarity."
      ]
    },
    {
      "cell_type": "code",
      "execution_count": null,
      "metadata": {
        "id": "NRxxrjKnnNpP",
        "outputId": "02559e69-a4a6-4f08-c470-0e705b52d483"
      },
      "outputs": [
        {
          "name": "stdout",
          "output_type": "stream",
          "text": [
            "<class 'pandas.core.frame.DataFrame'>\n",
            "Index: 891 entries, 1 to 891\n",
            "Data columns (total 11 columns):\n",
            " #   Column           Non-Null Count  Dtype   \n",
            "---  ------           --------------  -----   \n",
            " 0   Survived         891 non-null    int64   \n",
            " 1   Pclass           891 non-null    category\n",
            " 2   Name             891 non-null    object  \n",
            " 3   Sex              891 non-null    object  \n",
            " 4   Age              891 non-null    float64 \n",
            " 5   SiblingsSpouses  891 non-null    int64   \n",
            " 6   Parch            891 non-null    int64   \n",
            " 7   Ticket           891 non-null    object  \n",
            " 8   Fare             891 non-null    float64 \n",
            " 9   Cabin            891 non-null    object  \n",
            " 10  Embarked         889 non-null    object  \n",
            "dtypes: category(1), float64(2), int64(3), object(5)\n",
            "memory usage: 109.9+ KB\n"
          ]
        }
      ],
      "source": [
        "titanic2.rename(columns={'SibSp': 'SiblingsSpouses'}, inplace=True)\n",
        "titanic2.info()"
      ]
    },
    {
      "cell_type": "markdown",
      "metadata": {
        "id": "9PrM7mMFnNpP"
      },
      "source": [
        "### Creating New Features\n",
        "\n",
        "Sometimes, we need to make some characteristics of the data more explicit. We can derive new columns from existing ones to enrich your analysis.\n",
        "\n",
        "**Titanic example**:  \n",
        "Create a `FamilySize` column by summing `SibSp` and `Parch`."
      ]
    },
    {
      "cell_type": "code",
      "execution_count": null,
      "metadata": {
        "id": "PtDWYrmfnNpP",
        "outputId": "dbf90e3d-995d-47b6-de8b-01c7591396a2"
      },
      "outputs": [
        {
          "name": "stdout",
          "output_type": "stream",
          "text": [
            "<class 'pandas.core.frame.DataFrame'>\n",
            "Index: 891 entries, 1 to 891\n",
            "Data columns (total 12 columns):\n",
            " #   Column           Non-Null Count  Dtype   \n",
            "---  ------           --------------  -----   \n",
            " 0   Survived         891 non-null    int64   \n",
            " 1   Pclass           891 non-null    category\n",
            " 2   Name             891 non-null    object  \n",
            " 3   Sex              891 non-null    object  \n",
            " 4   Age              891 non-null    float64 \n",
            " 5   SiblingsSpouses  891 non-null    int64   \n",
            " 6   Parch            891 non-null    int64   \n",
            " 7   Ticket           891 non-null    object  \n",
            " 8   Fare             891 non-null    float64 \n",
            " 9   Cabin            891 non-null    object  \n",
            " 10  Embarked         889 non-null    object  \n",
            " 11  FamilySize       891 non-null    int64   \n",
            "dtypes: category(1), float64(2), int64(4), object(5)\n",
            "memory usage: 116.8+ KB\n"
          ]
        }
      ],
      "source": [
        "titanic2['FamilySize'] = titanic2['SiblingsSpouses'] + titanic2['Parch']\n",
        "titanic2.info()"
      ]
    },
    {
      "cell_type": "markdown",
      "metadata": {
        "id": "V2gYImcOnNpP"
      },
      "source": [
        "### Filtering and Subsetting\n",
        "\n",
        "You may want to focus on a subset of the data—e.g., only adult passengers, or only those who embarked from Southampton.\n",
        "\n",
        "In the case of Titanic, we may select only adult passengers as follows:"
      ]
    },
    {
      "cell_type": "code",
      "execution_count": null,
      "metadata": {
        "id": "b05OmY9qnNpQ",
        "outputId": "00f99df5-a1b5-4720-cc9d-8fb00c26ef8c"
      },
      "outputs": [
        {
          "name": "stdout",
          "output_type": "stream",
          "text": [
            "<class 'pandas.core.frame.DataFrame'>\n",
            "Index: 778 entries, 1 to 891\n",
            "Data columns (total 12 columns):\n",
            " #   Column           Non-Null Count  Dtype   \n",
            "---  ------           --------------  -----   \n",
            " 0   Survived         778 non-null    int64   \n",
            " 1   Pclass           778 non-null    category\n",
            " 2   Name             778 non-null    object  \n",
            " 3   Sex              778 non-null    object  \n",
            " 4   Age              778 non-null    float64 \n",
            " 5   SiblingsSpouses  778 non-null    int64   \n",
            " 6   Parch            778 non-null    int64   \n",
            " 7   Ticket           778 non-null    object  \n",
            " 8   Fare             778 non-null    float64 \n",
            " 9   Cabin            778 non-null    object  \n",
            " 10  Embarked         776 non-null    object  \n",
            " 11  FamilySize       778 non-null    int64   \n",
            "dtypes: category(1), float64(2), int64(4), object(5)\n",
            "memory usage: 73.8+ KB\n"
          ]
        }
      ],
      "source": [
        "titanic2 = titanic2[titanic2['Age'] >= 18]\n",
        "titanic2.info()"
      ]
    },
    {
      "cell_type": "markdown",
      "metadata": {
        "id": "-8fO1-fcnNpQ"
      },
      "source": [
        "We can check that our subsetting worked as follows:"
      ]
    },
    {
      "cell_type": "code",
      "execution_count": null,
      "metadata": {
        "id": "OZf8brqUnNpQ",
        "outputId": "64472aef-a9c1-40d5-eb7d-51a78e4622fe"
      },
      "outputs": [
        {
          "data": {
            "text/plain": [
              "18.0"
            ]
          },
          "execution_count": 30,
          "metadata": {},
          "output_type": "execute_result"
        }
      ],
      "source": [
        "titanic2['Age'].min()"
      ]
    },
    {
      "cell_type": "markdown",
      "metadata": {
        "id": "JuqpojR5nNpQ"
      },
      "source": [
        "We can also drop a column as follows:"
      ]
    },
    {
      "cell_type": "code",
      "execution_count": null,
      "metadata": {
        "id": "kyxQcicanNpQ",
        "outputId": "f5f0e0ec-ab46-4e22-ffdf-5f8041ac87ca"
      },
      "outputs": [
        {
          "name": "stdout",
          "output_type": "stream",
          "text": [
            "<class 'pandas.core.frame.DataFrame'>\n",
            "Index: 778 entries, 1 to 891\n",
            "Data columns (total 11 columns):\n",
            " #   Column           Non-Null Count  Dtype   \n",
            "---  ------           --------------  -----   \n",
            " 0   Survived         778 non-null    int64   \n",
            " 1   Pclass           778 non-null    category\n",
            " 2   Name             778 non-null    object  \n",
            " 3   Sex              778 non-null    object  \n",
            " 4   Age              778 non-null    float64 \n",
            " 5   SiblingsSpouses  778 non-null    int64   \n",
            " 6   Parch            778 non-null    int64   \n",
            " 7   Fare             778 non-null    float64 \n",
            " 8   Cabin            778 non-null    object  \n",
            " 9   Embarked         776 non-null    object  \n",
            " 10  FamilySize       778 non-null    int64   \n",
            "dtypes: category(1), float64(2), int64(4), object(4)\n",
            "memory usage: 67.7+ KB\n"
          ]
        }
      ],
      "source": [
        "titanic2.drop(columns=['Ticket'], inplace=True)\n",
        "titanic2.info()"
      ]
    },
    {
      "cell_type": "markdown",
      "metadata": {
        "id": "aD6bd_cznNpQ"
      },
      "source": [
        "Besides this, we can also select a subset of variables as follows:"
      ]
    },
    {
      "cell_type": "code",
      "execution_count": null,
      "metadata": {
        "id": "x5fhjFbjnNpQ",
        "outputId": "5b4ddb8d-7acf-4954-db29-392745a34c25"
      },
      "outputs": [
        {
          "data": {
            "text/html": [
              "<div>\n",
              "<style scoped>\n",
              "    .dataframe tbody tr th:only-of-type {\n",
              "        vertical-align: middle;\n",
              "    }\n",
              "\n",
              "    .dataframe tbody tr th {\n",
              "        vertical-align: top;\n",
              "    }\n",
              "\n",
              "    .dataframe thead th {\n",
              "        text-align: right;\n",
              "    }\n",
              "</style>\n",
              "<table border=\"1\" class=\"dataframe\">\n",
              "  <thead>\n",
              "    <tr style=\"text-align: right;\">\n",
              "      <th></th>\n",
              "      <th>Age</th>\n",
              "      <th>Cabin</th>\n",
              "      <th>Fare</th>\n",
              "    </tr>\n",
              "    <tr>\n",
              "      <th>PassengerId</th>\n",
              "      <th></th>\n",
              "      <th></th>\n",
              "      <th></th>\n",
              "    </tr>\n",
              "  </thead>\n",
              "  <tbody>\n",
              "    <tr>\n",
              "      <th>1</th>\n",
              "      <td>22.0</td>\n",
              "      <td>Unknown</td>\n",
              "      <td>7.2500</td>\n",
              "    </tr>\n",
              "    <tr>\n",
              "      <th>2</th>\n",
              "      <td>38.0</td>\n",
              "      <td>C85</td>\n",
              "      <td>71.2833</td>\n",
              "    </tr>\n",
              "    <tr>\n",
              "      <th>3</th>\n",
              "      <td>26.0</td>\n",
              "      <td>Unknown</td>\n",
              "      <td>7.9250</td>\n",
              "    </tr>\n",
              "    <tr>\n",
              "      <th>4</th>\n",
              "      <td>35.0</td>\n",
              "      <td>C123</td>\n",
              "      <td>53.1000</td>\n",
              "    </tr>\n",
              "    <tr>\n",
              "      <th>5</th>\n",
              "      <td>35.0</td>\n",
              "      <td>Unknown</td>\n",
              "      <td>8.0500</td>\n",
              "    </tr>\n",
              "  </tbody>\n",
              "</table>\n",
              "</div>"
            ],
            "text/plain": [
              "              Age    Cabin     Fare\n",
              "PassengerId                        \n",
              "1            22.0  Unknown   7.2500\n",
              "2            38.0      C85  71.2833\n",
              "3            26.0  Unknown   7.9250\n",
              "4            35.0     C123  53.1000\n",
              "5            35.0  Unknown   8.0500"
            ]
          },
          "execution_count": 35,
          "metadata": {},
          "output_type": "execute_result"
        }
      ],
      "source": [
        "titanic2[['Age', 'Cabin', 'Fare']].head()"
      ]
    },
    {
      "cell_type": "markdown",
      "metadata": {
        "id": "dc19mzBKnNpQ"
      },
      "source": [
        "### Long vs Wide Formats\n",
        "Data can be organized in different formats depending on the goals of the analysis. Understanding these formats helps us reshape and prepare data effectively for modeling, visualization, or statistical testing.\n",
        "\n",
        "#### Wide Format\n",
        "\n",
        "- Each **variable** has its own column  \n",
        "- Each **observation** is a single row  \n",
        "- **Advantages**: Easy to read, intuitive structure, compatible with most analysis tools  \n",
        "- **Use cases**: Statistical modeling, machine learning, spreadsheet-style inspection\n",
        "\n",
        "**Example**:  \n",
        "A dataset where each row is a student and each column is a subject score."
      ]
    },
    {
      "cell_type": "code",
      "execution_count": null,
      "metadata": {
        "tags": [
          "remove-input"
        ],
        "id": "XKu8DWi1nNpQ",
        "outputId": "7ba83663-2f08-462b-b2d6-740e5cd8147b"
      },
      "outputs": [
        {
          "name": "stdout",
          "output_type": "stream",
          "text": [
            "Wide Format:\n",
            "   Student  Math  Science  English\n",
            "0    Alice    85       88       92\n",
            "1      Bob    92       85       88\n",
            "2  Charlie    78       92       85\n"
          ]
        }
      ],
      "source": [
        "# Example: Wide vs Long format\n",
        "\n",
        "# Create sample data in wide format\n",
        "wide_data = pd.DataFrame({\n",
        "    'Student': ['Alice', 'Bob', 'Charlie'],\n",
        "    'Math': [85, 92, 78],\n",
        "    'Science': [88, 85, 92],\n",
        "    'English': [92, 88, 85]\n",
        "})\n",
        "\n",
        "print(\"Wide Format:\")\n",
        "print(wide_data)"
      ]
    },
    {
      "cell_type": "markdown",
      "metadata": {
        "id": "S2lqETIOnNpQ"
      },
      "source": [
        "#### Long Format\n",
        "\n",
        "- Variables are **stacked** into fewer columns  \n",
        "- Each observation may span **multiple rows**  \n",
        "- **Advantages**: More compact, flexible for grouping and plotting  \n",
        "- **Use cases**: Time series, repeated measures, tidy data workflows, faceted plots\n",
        "\n",
        "**Example**:  \n",
        "Instead of one row per student, we have one row per student–subject pair, with columns like `StudentID`, `Subject`, and `Score`.\n",
        "\n",
        "Most of the time, especially in introductory analysis and machine learning, we’ll encounter datasets in **wide format**. However, certain tasks—like time-based analysis or grouped visualizations—may require us to **reshape the data into long format**. We’ll revisit these concepts and apply them later when working with real datasets."
      ]
    },
    {
      "cell_type": "code",
      "execution_count": null,
      "metadata": {
        "tags": [
          "remove-input"
        ],
        "id": "Z2ceArztnNpQ",
        "outputId": "492cf525-0ba1-4224-85fe-186ceda945b1"
      },
      "outputs": [
        {
          "name": "stdout",
          "output_type": "stream",
          "text": [
            "\n",
            "Long Format:\n",
            "   Student  Subject  Score\n",
            "0    Alice     Math     85\n",
            "1      Bob     Math     92\n",
            "2  Charlie     Math     78\n",
            "3    Alice  Science     88\n",
            "4      Bob  Science     85\n",
            "5  Charlie  Science     92\n",
            "6    Alice  English     92\n",
            "7      Bob  English     88\n",
            "8  Charlie  English     85\n"
          ]
        }
      ],
      "source": [
        "# Convert to long format\n",
        "long_data = pd.melt(wide_data,\n",
        "                   id_vars=['Student'],\n",
        "                   var_name='Subject',\n",
        "                   value_name='Score')\n",
        "\n",
        "print(\"\\nLong Format:\")\n",
        "print(long_data)"
      ]
    },
    {
      "cell_type": "markdown",
      "metadata": {
        "id": "Exw94WG_nNpQ"
      },
      "source": [
        "Conversion across formats can be done as follows:"
      ]
    },
    {
      "cell_type": "code",
      "execution_count": null,
      "metadata": {
        "id": "xCyaQeDPnNpR",
        "outputId": "7b678ac9-294f-4187-b4df-3123d454b6aa"
      },
      "outputs": [
        {
          "name": "stdout",
          "output_type": "stream",
          "text": [
            "Wide Format:\n",
            "   Student  Math  Science  English\n",
            "0    Alice    85       88       92\n",
            "1      Bob    92       85       88\n",
            "2  Charlie    78       92       85\n",
            "\n",
            "Long Format:\n",
            "   Student  Subject  Score\n",
            "0    Alice     Math     85\n",
            "1      Bob     Math     92\n",
            "2  Charlie     Math     78\n",
            "3    Alice  Science     88\n",
            "4      Bob  Science     85\n",
            "5  Charlie  Science     92\n",
            "6    Alice  English     92\n",
            "7      Bob  English     88\n",
            "8  Charlie  English     85\n",
            "\n",
            "Back to Wide Format:\n",
            "Subject  English  Math  Science\n",
            "Student                        \n",
            "Alice         92    85       88\n",
            "Bob           88    92       85\n",
            "Charlie       85    78       92\n"
          ]
        }
      ],
      "source": [
        "# Example: Wide vs Long format\n",
        "\n",
        "# Create sample data in wide format\n",
        "wide_data = pd.DataFrame({\n",
        "    'Student': ['Alice', 'Bob', 'Charlie'],\n",
        "    'Math': [85, 92, 78],\n",
        "    'Science': [88, 85, 92],\n",
        "    'English': [92, 88, 85]\n",
        "})\n",
        "\n",
        "print(\"Wide Format:\")\n",
        "print(wide_data)\n",
        "\n",
        "# Convert to long format\n",
        "long_data = pd.melt(wide_data,\n",
        "                   id_vars=['Student'],\n",
        "                   var_name='Subject',\n",
        "                   value_name='Score')\n",
        "\n",
        "print(\"\\nLong Format:\")\n",
        "print(long_data)\n",
        "\n",
        "# Convert back to wide format\n",
        "wide_again = long_data.pivot(index='Student', columns='Subject', values='Score')\n",
        "print(\"\\nBack to Wide Format:\")\n",
        "print(wide_again)"
      ]
    },
    {
      "cell_type": "markdown",
      "metadata": {
        "id": "DnffniQKnNpR"
      },
      "source": [
        "These are some of the techniques used in data wrangling. In practice, depending on the kind of analysis, we may perform different operations, such as:\n",
        "\n",
        "- **Converting units of measurement** (e.g., from inches to centimeters, or Fahrenheit to Celsius)\n",
        "- **Merging different tables** (e.g., using a join operation like in SQL to combine passenger data with ticket prices)\n",
        "- **Parsing and extracting information** from strings (e.g., splitting full names into first and last names)\n",
        "- **Normalizing or scaling values** (e.g., rescaling age or fare to a 0–1 range for modeling)\n",
        "- **Binning continuous variables** into categories (e.g., grouping ages into child, adult, senior)\n",
        "- **Removing duplicates or irrelevant columns**\n",
        "- **Filtering outliers** or suspicious values (e.g., negative ages or fares)\n",
        "- **Reshaping data** between wide and long formats depending on the analysis or visualization needs\n",
        "\n",
        "We’ll revisit many of these techniques and apply them to real datasets as we move forward. For now, it’s important to understand that data wrangling is not a fixed recipe—it’s a flexible toolbox that adapts to the structure and goals of each project."
      ]
    },
    {
      "cell_type": "markdown",
      "metadata": {
        "id": "DNNMgIjbnNpR"
      },
      "source": [
        "## The Data Analysis Workflow\n",
        "\n",
        "Now that we've seen the main concepts, terminology, and tools involved in working with data, we can introduce a broader perspective: the **data analysis workflow**. This is the structured process that guides how we move from raw data to insights, decisions, and predictions.\n",
        "\n",
        "Let’s begin with a working definition, adapted from [Wikipedia](https://en.wikipedia.org/wiki/Data_analysis):\n",
        "\n",
        "> Data analysis is the **process** of inspecting, **cleaning**, **transforming**, and **modeling** data with the goal of **discovering useful information**, **informing conclusions**, and **supporting decision-making**.\n",
        "\n",
        "While this definition is informal, it provides a useful starting point. In the sections below, we’ll unpack its key components and introduce the main types and goals of data analysis.\n",
        "\n",
        "### Data Analysis as a Process\n",
        "\n",
        "The definition above emphasizes that data analysis is a **process**—not a single algorithm or technique, but a sequence of steps that combine statistical reasoning, domain knowledge, and computational tools. These steps often include:\n",
        "\n",
        "- **Inspecting**: Assessing the structure and content of the dataset—number of rows and columns, types of variables, typical values, and potential anomalies. For example, in a dataset of student marks, we might expect scores to range from 0 to 10.\n",
        "  \n",
        "- **Cleaning**: Correcting or removing problematic data entries. This could involve handling missing values, removing duplicates, or filtering out invalid entries (e.g., negative marks or scores above the maximum).\n",
        "  \n",
        "- **Transforming**: Modifying the data to make it more suitable for analysis. This might include creating new columns (e.g., a mean score per student), rescaling variables, or converting formats (e.g., dividing English scores out of 30 by 3 to match other subjects scored out of 10).\n",
        "  \n",
        "- **Modeling**: Applying statistical or machine learning models to summarize, explain, or predict aspects of the data. A model can help us understand relationships between variables—for instance, predicting English scores based on performance in other subjects.\n",
        "\n",
        "### The Typical Workflow\n",
        "\n",
        "A standard data analysis workflow includes the following stages:\n",
        "\n",
        "1. **Define** your data analysis question  \n",
        "2. **Collect** the data needed to answer that question  \n",
        "3. **Clean and format** the data  \n",
        "4. **Explore and describe** the data  \n",
        "5. **Choose suitable models** for the analysis  \n",
        "6. **Fit, fine-tune, evaluate, and compare** the models  \n",
        "7. **Review and update** the analysis as new data becomes available\n",
        "\n",
        "### A Non-Linear Process\n",
        "\n",
        "Although the workflow is presented as a sequence, real-world data analysis is rarely linear. Analysts often revisit earlier steps based on what they learn along the way. For example:\n",
        "\n",
        "- After exploring the data (step 4), you might discover outliers and return to cleaning (step 3)  \n",
        "- You might realize that your initial question (step 1) needs refinement  \n",
        "- You might need additional data (step 2) to improve your model\n",
        "\n",
        "The diagram below illustrates this flexible structure. Solid arrows show the main flow, while dashed arrows indicate possible backward steps—especially after exploration.\n",
        "\n",
        "![](https://github.com/antoninofurnari/fadlecturenotes/blob/master/lecturenotes//_static/lecture_specific/intro_data_analysis/workflow.png?raw=1)\n",
        "\n",
        "### Example: Analyzing Customer Reviews\n",
        "\n",
        "Let’s walk through a practical example. A data analyst at an e-commerce company is tasked with improving product quality and customer satisfaction by analyzing customer reviews.\n",
        "\n",
        "- **Step 1**: Define the question: “What are the common themes and issues in customer reviews?”  \n",
        "- **Step 2**: Collect reviews from the company website, social media, and third-party platforms  \n",
        "- **Step 3**: Clean the data—remove duplicates, correct spelling, standardize formatting  \n",
        "- **Step 4**: Explore the data—use word clouds, sentiment analysis, and frequency counts  \n",
        "- **Step 5**: Choose a model—apply topic modeling (e.g., Latent Dirichlet Allocation)  \n",
        "- **Step 6**: Evaluate the model—realize that topics are overlapping and unclear  \n",
        "- **Step 4 (again)**: Re-explore the data—identify that product and service issues are mixed  \n",
        "- **Step 5 (again)**: Separate reviews into categories and reapply topic modeling  \n",
        "- **Step 6**: Obtain clearer topics like “defective products” and “responsive support”  \n",
        "- **Step 7**: Commit to ongoing review as new reviews come in\n",
        "\n",
        "This iterative approach allows the analyst to refine insights and adapt strategies over time.\n",
        "\n",
        "This workflow will guide our journey through the course. As we move forward, we’ll apply each step to real datasets, starting with the Titanic dataset and expanding to more complex scenarios."
      ]
    },
    {
      "cell_type": "markdown",
      "metadata": {
        "id": "KoEAoyQinNpR"
      },
      "source": [
        "## References\n",
        "* Chapter 1 of *Heumann, Christian, and Michael Schomaker Shalabh. Introduction to statistics and data analysis. Springer International Publishing Switzerland, 2016.*"
      ]
    }
  ],
  "metadata": {
    "kernelspec": {
      "display_name": "base",
      "language": "python",
      "name": "python3"
    },
    "language_info": {
      "codemirror_mode": {
        "name": "ipython",
        "version": 3
      },
      "file_extension": ".py",
      "mimetype": "text/x-python",
      "name": "python",
      "nbconvert_exporter": "python",
      "pygments_lexer": "ipython3",
      "version": "3.13.5"
    },
    "colab": {
      "provenance": []
    }
  },
  "nbformat": 4,
  "nbformat_minor": 0
}