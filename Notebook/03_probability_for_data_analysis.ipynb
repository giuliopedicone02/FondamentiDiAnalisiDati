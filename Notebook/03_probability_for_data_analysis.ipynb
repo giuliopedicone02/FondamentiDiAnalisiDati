{
 "cells": [
  {
   "cell_type": "markdown",
   "id": "7572f6ac",
   "metadata": {},
   "source": [
    "# Probability for Data Analysis\n",
    "When working with data, we often ask: **what values will variables assume?**\n",
    "\n",
    "In some cases, we can predict these values with perfect accuracy—like solving a system of equations that describes the speed of an object using Newtonian physics. These are **deterministic systems**, where outcomes follow directly from initial conditions.\n",
    "\n",
    "But in many real-world scenarios, we face **uncertainty**. Modeling the relationship between variables in a deterministic way is not always possible. This uncertainty can arise from several sources:\n",
    "\n",
    "- **Inherent randomness**: Some events are truly stochastic, like rolling a die or drawing a card. Even with perfect knowledge, the outcome is unpredictable.\n",
    "- **Incomplete observability**: Sometimes we can't see everything. In the Monty Hall problem, the game is deterministic, but the player lacks full information—so the outcome feels uncertain.\n",
    "- **Incomplete modeling**: Even in deterministic systems, we may lack the tools to model them fully. For example, a robot with only an RGB camera may estimate object positions in 2D, but cannot reconstruct full 3D coordinates. The missing dimensions introduce uncertainty.\n",
    "\n",
    "### Real-World Examples\n",
    "\n",
    "- **Tossing a coin or rolling a die**: These are often treated as random events, even if they could be modeled deterministically in theory. The complexity of initial conditions makes prediction intractable.\n",
    "- **Diagnosing a medical condition**: Different pathologies may share symptoms. Even with detailed observations, we may not be able to determine the exact diagnosis with certainty.\n",
    "\n",
    "## Why Probability Theory Matters\n",
    "\n",
    "Probability theory provides a **consistent framework** for reasoning about uncertainty. It allows us to:\n",
    "\n",
    "- Quantify uncertain events\n",
    "- Combine known and unknown information\n",
    "- Derive new probabilistic statements using formal rules\n",
    "\n",
    "In data analysis, probability is essential for:\n",
    "\n",
    "- Modeling randomness and variability\n",
    "- Making predictions under uncertainty\n",
    "- Interpreting patterns and relationships in data\n",
    "\n",
    "In this lecture, we’ll revisit the core concepts of probability theory—starting with random variables—and apply them to real datasets like the Titanic. We'll use tools like the **sum rule**, **product rule**, and **Bayes’ theorem** to answer questions such as:\n",
    "\n",
    "- What is the probability that a passenger survived?\n",
    "- What is the probability that a passenger was in 1st class, given that they survived?\n",
    "- What is the probability that a passenger was in 3rd class, given that they died?\n",
    "\n",
    "These examples will help us connect abstract probability rules to concrete data-driven reasoning."
   ]
  },
  {
   "cell_type": "markdown",
   "id": "49a15236",
   "metadata": {},
   "source": [
    "### Random Experiments\n",
    "\n",
    "In practice, when data acquisition is affected by uncertainty, we refer to the process as a **random experiment**. Informally, we define a random experiment as:\n",
    "\n",
    "> An experiment that can be repeated any number of times, potentially leading to different outcomes.\n",
    "\n",
    "We introduce the following terminology:\n",
    "\n",
    "- **Sample space**  $\\Omega = \\{\\omega_1, \\ldots, \\omega_k\\}$  The set of all possible outcomes of the experiment.\n",
    "- **Simple event** $\\omega_i$: a single possible outcome.\n",
    "- **Event** $A \\subseteq \\Omega$: a subset of the sample space representing a condition or outcome of interest. We usually denote  $\\overline{A} = \\Omega \\setminus A$  as the complementary event to $A$, i.e., the event that $A$ does not occur.\n",
    "\n",
    "By definition:\n",
    "- The sample space $\\Omega$ is called the **sure event** or **certain event**, since it includes all possible outcomes.\n",
    "- The empty set $\\emptyset$ is called the **impossible event**, as it contains no outcomes.\n",
    "\n",
    "\n",
    "#### Example: Rolling a Die\n",
    "\n",
    "Consider the random experiment of rolling a fair six-sided die. The outcome is the number shown on the top face when the die lands.\n",
    "\n",
    "- **Sample space**: $\\Omega = \\{1, 2, 3, 4, 5, 6\\}$\n",
    "- **Simple event**: $\\omega_1 = 1$ represents the outcome “we roll a 1”.\n",
    "- **Event examples**:  \n",
    "  - “We obtain a 1”:  $A = \\{1\\}$  \n",
    "  - “We obtain an even number”:  $A = \\{2, 4, 6\\}$  \n",
    "  - Complement of the above:  $\\overline{A} = \\{1, 3, 5\\}$  Represents “we obtain an odd number”.\n",
    "\n",
    "This framework allows us to describe uncertainty in a structured way, preparing us to assign probabilities to events and reason about their likelihood."
   ]
  },
  {
   "cell_type": "markdown",
   "id": "ff8cf826",
   "metadata": {},
   "source": [
    "## Random Variables\n",
    "\n",
    "We have so far talked about \"statistical variables\". When\n",
    "dealing with uncertain events, we need to use the concept of 'random\n",
    "variables'. Informally (from wikipedia):\n",
    "\n",
    "> A random variable is a variable whose values depend on outcomes of a random phenomenon.\n",
    "\n",
    "A random variable is characterized by a set of possible values often\n",
    "called *sample space*, *probability space*, or *alphabet* (this last term comes from\n",
    "information theory, where we often deal with sources emitting symbols\n",
    "from an alphabet, in which case the values of $X$ will be the symbols).\n",
    "\n",
    "The definition of a random variable is very similar to that of a statistical variable. Formally, if $\\Omega$ is the *sample space*, we will define a random variable as a function:\n",
    "\n",
    "$$ X : \\Omega \\to E $$\n",
    "\n",
    "Where **E is a measurable space** and often $E=\\mathbb{R}$. This definition is similar to the one of statistical variable we have given before.\n",
    "\n",
    "A random variable is generally denoted by a *capital letter*, such as\n",
    "$X$.\n",
    "\n",
    "Similar to statistical variables, random variables can be *discrete* or *continuous*, *scalar* or *multi-dimensional*.\n",
    "\n",
    "The following table lists some examples.\n",
    "\n",
    "||**Discrete**|**Continuous**|\n",
    "|-|-|-|\n",
    "|**Scalar**             | Tossing a coin         | Height of a person|\n",
    "|**Multidimensional**   | Pair of dice           | Coordinates of a car|"
   ]
  },
  {
   "cell_type": "markdown",
   "id": "2ad83c69",
   "metadata": {},
   "source": [
    "### Toy Titanic Example\n",
    "![](..//_static/lecture_specific/probability/titanic.png)\n",
    "\n",
    "We will now consider a toy example derived inspired to the Titanic dataset.\n",
    "\n",
    "In this example, we will assume to have a very small ship with passengers in three classes and belonging to two possible genders (male or female)."
   ]
  },
  {
   "cell_type": "markdown",
   "id": "3d73db78",
   "metadata": {},
   "source": [
    "To reason in terms of probability, we have to think of a random experiment first. To this aim, let's imagine the process of randomly picking a passenger from the list. This passenger will belong to one of the three classes and one of the two sexes. We will see how to use probability theory to answer different questions such as:\n",
    "\n",
    "- Is it more likely to pick a woman or a man?\n",
    "- If I pick a person from first class, is it more likely to pick a woman or a man?\n",
    "- If I know I picked a woman, is it more likely that I am picking from first, second or third class?\n",
    "\n",
    "As you can see, answering these questions allows us to better understand and characterize the data, but can also be useful for practical applications. For instance, we may deliver different services to the different classes depending on the people who populate the classes.\n",
    "\n",
    "More technically, we will consider the experiment of randomly drawing a passenger from one of\n",
    "the three classes. This happens in two stages:\n",
    "\n",
    "-   We first randomly pick one of the three classes;\n",
    "\n",
    "-   Then we randomly pick one of the passengers in the class;\n",
    "\n",
    "-   After observing the sex of the passenger, we replace them in the same\n",
    "    class.\n",
    "\n",
    "The outcome of the experiment can be characterized by *two random\n",
    "variables*:\n",
    "\n",
    "-   C represents the class, which can take values $1, 2, 3$\n",
    "\n",
    "-   S represents the sex of the passenger, which can take values $male$ and $female$\n",
    "\n",
    "\n",
    "If we pick a male passenger marble from the third class, then the outcome of the experiment can be characterized by the values $C = 3$, $S = male$;"
   ]
  },
  {
   "cell_type": "markdown",
   "id": "438952cf",
   "metadata": {},
   "source": [
    "## Working Definition of Data\n",
    "\n",
    "We will define \"data\" as follows:\n",
    "\n",
    "> The values assumed by a random variable\n",
    "\n",
    "### Example\n",
    "\n",
    "-   For instance, if the sex of a passenger is $male$, then\n",
    "    $S = male$ *is data*;\n",
    "\n",
    "-   It should be clear that the 'data' is *the pair* \\<random variable,\n",
    "    value\\> and not just the value. Indeed $male$ alone would not be\n",
    "    very useful (we don't know which phenomenon it is related to),\n",
    "    whereas $S = male$ can be useful, as we know that $S$ is the random\n",
    "    variable describing the sex of the passenger;\n",
    "\n",
    "-   In this example, the data $S = male$ is representing a fact: 'I\n",
    "    randomly picked a passenger and their sex was $male$'. This is also called 'an\n",
    "    event';"
   ]
  },
  {
   "cell_type": "markdown",
   "id": "8f1eb00d",
   "metadata": {},
   "source": [
    "## Probability\n",
    "\n",
    "Since random variables are related to stochastic phenomena, we cannot\n",
    "say much about the outcome of a single phenomenon.\n",
    "\n",
    "However, we expect to be able to characterize the class of experiments\n",
    "related to a random variable, to infer rules on what values the random\n",
    "variable is likely to take.\n",
    "\n",
    "For instance, in the case of coin tossing, we can observe that, if I\n",
    "toss a coin for a large number of times, the number of heads will be\n",
    "roughly similar to the number of tails.\n",
    "\n",
    "This kind of observations is useful, as it can give us a prior on what\n",
    "values we are likely to encounter and what are not.\n",
    "\n",
    "To formally express such rules, we can define the concept of probability\n",
    "on a random variable.\n",
    "\n",
    "Specifically, it is possible to assign a probability value to a given\n",
    "outcome. This is generally represented with a capital P:\n",
    "\n",
    "-   For instance, $P(C = 1)$ represents the probability of picking a\n",
    "    from the first class in the previous example;\n",
    "\n",
    "-   A probability $P(C = 1)$ is a number comprised between 0 and 1 which\n",
    "    quantifies how likely we believe the event to be;\n",
    "    -   0 means impossible;\n",
    "    -   1 means certain;\n",
    "\n",
    "When it is clear from the context which variable we are referring to,\n",
    "the probability can also be expressed simply as:\n",
    "\n",
    "$$P(male) = P(S = male)$$"
   ]
  },
  {
   "cell_type": "markdown",
   "id": "3b2a6c2e",
   "metadata": {},
   "source": [
    "### Probability Axioms\n",
    "Kolmogorov in 1933 provided three axioms which define the \"main rules\" that probability should follow:\n",
    "\n",
    "**Axiom 1**\n",
    "Any event has a probability in the range $[0,1]$:\n",
    "\n",
    "$$0 \\leq P(A) \\leq 1, \\forall A\\subseteq \\Omega$$\n",
    "\n",
    "**Axiom 2**\n",
    "The certain event has probability 1:\n",
    "\n",
    "$$P(\\Omega) = 1$$\n",
    "\n",
    "**Axiom 3**\n",
    "If $A$ and $B$ are disjoint event (i.e., $A \\cap B = \\emptyset$), then:\n",
    "\n",
    "$$P(A \\cup B) = P(A) + P(B)$$\n",
    "\n",
    "From these axioms, the following corollaries follow:\n",
    "\n",
    "**Complement rule**\n",
    "  \n",
    "$$P(\\overline{A}) = 1 - P(A)$$\n",
    "\n",
    "**Probability of the impossible event**\n",
    "\n",
    "$$P(\\emptyset) = P(\\overline{\\Omega}) = 1 - P(\\Omega) = 0$$\n",
    "\n",
    "**General addition rule (for any events $A$ and $B$)**\n",
    "\n",
    "$$P(A \\cup B) = P(A) + P(B) - P(A \\cap B)$$\n",
    "\n",
    "**Monotonicity (if $A \\subseteq B$)**\n",
    "\n",
    "$$A \\subseteq B \\Rightarrow P(A) \\leq P(B)$$"
   ]
  },
  {
   "cell_type": "markdown",
   "id": "405b91db",
   "metadata": {},
   "source": [
    "### Laplace Probability\n",
    "**When all outcomes in a random experiment are considered equally probable**, this is called a **Laplace experiment**. In this case, we can calculate the probability of a given event $A$ as the ratio between the favorable outcomes and the possible outcomes:\n",
    "\n",
    "$$P(A) = \\frac{|A|}{|\\Omega|} = \\frac{\\text{number of favorable outcomes}}{\\text{number of possible outcomes}}$$\n",
    "\n",
    "For instance, if we are tossing a die:\n",
    "* The probability of obtaining any of the faces will be: $\\frac{1}{6}$;\n",
    "* The probability of obtaining an even number will be: $\\frac{|\\{2,4,6\\}|}{|\\{1,2,3,4,5,6\\}|} = \\frac{3}{6} = \\frac{1}{2}$."
   ]
  },
  {
   "cell_type": "markdown",
   "id": "9b04e714",
   "metadata": {},
   "source": [
    "### Estimating probabilities from observations\n",
    "\n",
    "What about the cases in which we cannot make any assumption on the equal probability of events? In those cases we would like to estimate probabilities from observations. There are two main approaches to do so: frequentist and Bayesian.\n",
    "\n",
    "#### Frequentist approach\n",
    "\n",
    "Probability theory was initially developed to analyze the frequency of\n",
    "events. For instance, it can be used to study events like drawing a\n",
    "certain hand of cards in a poker game. These events are repeatable and\n",
    "can be dealt with using frequencies. In this sense, when we say that an\n",
    "event has probability $p$ of occurring, it means that if we repeat the\n",
    "experiment infinitely many times, then a proportion $p$ of the\n",
    "repetitions would result in that outcome.\n",
    "\n",
    "According to the frequentist approach, we can estimate probabilities by\n",
    "repeating an experiment for a large number of times and then computing:\n",
    "\n",
    "-   The number of trials: how many times we performed the experiment;\n",
    "\n",
    "-   The number of favorable outcomes: how many times the outcome of the\n",
    "    experiment was favorable.\n",
    "\n",
    "The probability is hence obtained by dividing the number of favorable\n",
    "outcomes by the number of trials. \n",
    "\n",
    "For instance, let's suppose we want to estimate the probability of\n",
    "obtaining a 'head' by tossing a coin. Let's suppose we toss the coin\n",
    "1000 times and obtain 499 heads and 501 tails. We can compute the\n",
    "probability of obtaining head as follows:\n",
    "\n",
    "-   Number of trials: 1000;\n",
    "\n",
    "-   Number of favorable outcomes: 499.\n",
    "\n",
    "The probability of obtaining head will be 499/1000=0.49\n",
    "\n",
    "This is the approach we have seen so far in the course when dealing with relative frequencies.\n",
    "\n",
    "##### Examples\n",
    "\n",
    "-   The probability of obtaining 'head' when tossing a coin is 0.5. We\n",
    "    know that because, if we toss a coin for a large number of times,\n",
    "    about half of the times, we will obtain 'head';\n",
    "\n",
    "-   The probability of picking a red ball from a box with 40 red balls\n",
    "    and 60 blue balls is 0.4. We know this because, if we repeat the\n",
    "    experiment for a large number of times, we will observe that\n",
    "    proportion.\n",
    "\n",
    "#### Bayesian Approach\n",
    "The Bayesian approach to probability offers a different perspective on probability theory. Unlike the frequentist approach, which focuses on analyzing the frequency of events based on observations, the **Bayesian approach allows us to incorporate prior knowledge and update our beliefs as new information becomes available**.\n",
    "\n",
    "In Bayesian probability, we view **probability as a measure of uncertainty or belief**. When we assign a probability to an event, it reflects our **subjective degree of belief in the event's likelihood**. This approach is particularly useful when dealing with unique or one-time events where frequency-based analysis may not be applicable (e.g., \"**what is the probability that the sun will extinguish in 5 billion years?**\").\n",
    "\n",
    "We will discuss better the Bayesian approach when we'll discuss Bayes theorem."
   ]
  },
  {
   "cell_type": "markdown",
   "id": "fe7e1bcd",
   "metadata": {},
   "source": [
    "### Example of Probability\n",
    "\n",
    "![](..//_static/lecture_specific/probability/titanic.png)"
   ]
  },
  {
   "cell_type": "markdown",
   "id": "f1ac08b5",
   "metadata": {},
   "source": [
    "Let's consider the previous example of randomly picking passengers.\n",
    "\n",
    "Suppose we repeat this experiment for $100$ times and observe that:\n",
    "-   We pick the first class $24$ times;\n",
    "-   We pick the second class $32$ times;\n",
    "-   We pick the third class $44$ times;\n",
    "-   Once we selected a urn, we are equally likely to select any of the\n",
    "    passengers contained in it, but we know that sexes are not distributed evenly in the classes (see figure).\n",
    "\n",
    "Using a frequentist approach, we can define the probabilities:\n",
    "-   $P(C = 1) = \\frac{24}{100}$\n",
    "-   $P(C = 2) = \\frac{32}{100}$\n",
    "-   $P(C = 3) = \\frac{44}{100}$\n",
    "\n",
    "This is done by using the formula:\n",
    "* $P(X = x) = \\frac{\\#\\ of\\ times\\ X = x}{\\#\\ trials}$"
   ]
  },
  {
   "cell_type": "markdown",
   "id": "b4453754",
   "metadata": {},
   "source": [
    "### Computation of frequentist probability values\n",
    "In frequentist terms, probabilities are the same as relative frequencies we have seen in the previous lectures. Let's see how to compute such probabilities on the real Titanic dataset:"
   ]
  },
  {
   "cell_type": "code",
   "execution_count": 5,
   "id": "3c80fdcf",
   "metadata": {},
   "outputs": [
    {
     "data": {
      "text/plain": [
       "Pclass\n",
       "1    0.242424\n",
       "2    0.206510\n",
       "3    0.551066\n",
       "Name: proportion, dtype: float64"
      ]
     },
     "execution_count": 5,
     "metadata": {},
     "output_type": "execute_result"
    }
   ],
   "source": [
    "import pandas as pd\n",
    "titanic = pd.read_csv('https://raw.githubusercontent.com/agconti/kaggle-titanic/master/data/train.csv',\n",
    "                     index_col='PassengerId')\n",
    "titanic['Pclass'].value_counts(normalize=True).sort_index()  # relative frequencies"
   ]
  },
  {
   "cell_type": "markdown",
   "id": "8734e35b",
   "metadata": {},
   "source": [
    "We can also visualize them for more clarity:"
   ]
  },
  {
   "cell_type": "code",
   "execution_count": 15,
   "id": "419ca608",
   "metadata": {},
   "outputs": [
    {
     "data": {
      "image/png": "[encoded data removed]",
      "text/plain": [
       "<Figure size 640x480 with 1 Axes>"
      ]
     },
     "metadata": {},
     "output_type": "display_data"
    }
   ],
   "source": [
    "from matplotlib import pyplot as plt\n",
    "titanic['Pclass'].value_counts(normalize=True).sort_index().plot.bar()  # relative frequencies\n",
    "plt.grid()\n",
    "plt.show()\n"
   ]
  },
  {
   "cell_type": "markdown",
   "id": "2b8c0c60",
   "metadata": {},
   "source": [
    "## Joint probability\n",
    "\n",
    "We can define **univariate** (= with respect to only one variable)\n",
    "probabilities $P(C)$ as we have seen in the previous\n",
    "examples.\n",
    "\n",
    "However, in many cases, it is useful to define probabilities on more\n",
    "than one variable at the time. For instance, we could be interested in\n",
    "studying the probability of picking a given fruit from a given box. In\n",
    "this case, we would be interested in the **joint probability** $P(C,S)$.\n",
    "\n",
    "In general, we can have joint probabilities with arbitrary numbers of\n",
    "variable. For instance,\n",
    "$P\\left( X_{1},X_{2},X_{3},\\ldots,X_{n} \\right)$.\n",
    "\n",
    "Joint probabilities are symmetric, i.e., $P(X,Y) = P(Y,X)$.\n",
    "\n",
    "We should note that, when dealing with multiple unidimensional\n",
    "variables, we can always define a new multi-variate variable comprising\n",
    "all of them:\n",
    "\n",
    "-   $X = \\left\\lbrack X_{1},X_{2} \\right\\rbrack;$\n",
    "\n",
    "-   $P(X) = P\\left( X_{1},X_{2} \\right)$."
   ]
  },
  {
   "cell_type": "markdown",
   "id": "e3632e2a",
   "metadata": {},
   "source": [
    "### Example Joint Probability\n",
    "\n",
    "![](..//_static/lecture_specific/probability/titanic.png)"
   ]
  },
  {
   "cell_type": "markdown",
   "id": "f06d1b1b",
   "metadata": {},
   "source": [
    "We can see the concept of joint probability in the context of the\n",
    "Titanic example.\n",
    "\n",
    "We have seen how to define the univariate probability $P(C)$ over the\n",
    "whole probability space of $C$.\n",
    "\n",
    "However, we could be interested in the probability of both variables\n",
    "jointly: $P(C,S)$, i.e., the joint probability of $C$ and $S$.\n",
    "\n",
    "To 'measure' the joint probability, we could repeat the experiment\n",
    "many times and observe the outcomes.\n",
    "\n",
    "We can then build a table which keeps track of how many\n",
    "times we observed a given combination:\n",
    "\n",
    "\n",
    "|           | First Class | Second Class | Third Class | All |\n",
    "|-          |-            |-             |-            |-    |\n",
    "| male      | 3           | 5            | 7           | 15  |\n",
    "| female    | 3           | 3            | 4           | 10  |\n",
    "| All       | 6           | 8            | 11          | 25  |\n",
    "\n",
    "\n",
    "A table like this is called a \"**contincency table**\".\n",
    "\n",
    "From the table above, we can easily derive the joint probability of a\n",
    "given pair of values using the **frequentist approach**. For instance:\n",
    "\n",
    "$$P(C = 1,S = male) = \\frac{\\#\\ times\\ (1,male)\\ occurs}{\\#\\ trials} = \\frac{3}{25}$$\n",
    "\n",
    "Similarly, we can derive other values:\n",
    "\n",
    "-   $P(C = 1,S = female) = \\frac{3}{25}$\n",
    "-   $P(C = 2,S = male) = \\frac{5}{25}$\n",
    "-   $P(C = 2,S = female) = \\frac{3}{25}$\n",
    "-   $P(C = 3,S = male) = \\frac{7}{25}$\n",
    "-   $P(C = 3,S = female) = \\frac{4}{25}$\n",
    "\n",
    "Note that we can also obtain the univariate probabilities by using the\n",
    "values in the \"sum\" row and column. For instance:\n",
    "\n",
    "$$P(C = 1) = \\frac{\\#\\ times\\ C=1\\ occurred}{\\#\\ trials} = \\frac{3 + 3}{25} = \\frac{6}{25}$$\n",
    "\n",
    "Similarly:\n",
    "\n",
    "-   $P(S = male) = \\frac{15}{25}$\n",
    "\n",
    "-   $P(S = female) = \\frac{10}{25}$\n",
    "\n",
    "-   $P(C = 2) = \\frac{8}{25}$\n",
    "\n",
    "-   $P(C = 3) = \\frac{11}{25}$\n",
    "\n",
    "These univariate probabilities computed starting from joint\n",
    "probabilities are usually called **marginal probabilities**, because we are using\n",
    "the sums in the margin of the table.\n",
    "\n",
    "We can obtain a joint probability table by dividing the table by the total number of trials (25):\n",
    "\n",
    "  \n",
    "|           | First Class | Second Class | Third Class | All |\n",
    "|-          |-            |-             |-            |-    |\n",
    "| male      | 3/25           | 5/25            | 7/25           | 15/25  |\n",
    "| female    | 3/25           | 3/25            | 4/25           | 10/25  |\n",
    "| All       | 6/25           | 8/25            | 11/25          | 25/25  |\n",
    "\n",
    "Alternatively, with decimal values:\n",
    "\n",
    "|           | First Class | Second Class | Third Class | All |\n",
    "|-          |-            |-             |-            |-    |\n",
    "| male      | 0.12           | 0.2            | 0.28           | 0.6  |\n",
    "| female    | 0.12           | 0.12            | 0.16           | 0.8  |\n",
    "| All       | 0.24           | 0.32             | 0.44          | 1  |\n"
   ]
  },
  {
   "cell_type": "markdown",
   "id": "a82b1db6",
   "metadata": {},
   "source": [
    "#### Computation of a Joint Probability Table\n",
    "\n",
    "To compute a joint probability table from data, we should first compute a contingency table, which is also called a crosstab in Pandas:"
   ]
  },
  {
   "cell_type": "code",
   "execution_count": 16,
   "id": "6c4a1305",
   "metadata": {},
   "outputs": [
    {
     "data": {
      "text/html": [
       "<div>\n",
       "<style scoped>\n",
       "    .dataframe tbody tr th:only-of-type {\n",
       "        vertical-align: middle;\n",
       "    }\n",
       "\n",
       "    .dataframe tbody tr th {\n",
       "        vertical-align: top;\n",
       "    }\n",
       "\n",
       "    .dataframe thead th {\n",
       "        text-align: right;\n",
       "    }\n",
       "</style>\n",
       "<table border=\"1\" class=\"dataframe\">\n",
       "  <thead>\n",
       "    <tr style=\"text-align: right;\">\n",
       "      <th>Pclass</th>\n",
       "      <th>1</th>\n",
       "      <th>2</th>\n",
       "      <th>3</th>\n",
       "    </tr>\n",
       "    <tr>\n",
       "      <th>Sex</th>\n",
       "      <th></th>\n",
       "      <th></th>\n",
       "      <th></th>\n",
       "    </tr>\n",
       "  </thead>\n",
       "  <tbody>\n",
       "    <tr>\n",
       "      <th>female</th>\n",
       "      <td>94</td>\n",
       "      <td>76</td>\n",
       "      <td>144</td>\n",
       "    </tr>\n",
       "    <tr>\n",
       "      <th>male</th>\n",
       "      <td>122</td>\n",
       "      <td>108</td>\n",
       "      <td>347</td>\n",
       "    </tr>\n",
       "  </tbody>\n",
       "</table>\n",
       "</div>"
      ],
      "text/plain": [
       "Pclass    1    2    3\n",
       "Sex                  \n",
       "female   94   76  144\n",
       "male    122  108  347"
      ]
     },
     "execution_count": 16,
     "metadata": {},
     "output_type": "execute_result"
    }
   ],
   "source": [
    "pd.crosstab(titanic['Sex'], titanic['Pclass'])"
   ]
  },
  {
   "cell_type": "markdown",
   "id": "33fb7da7",
   "metadata": {},
   "source": [
    "The table above indicates, for example, that $94$ passengers in class $1$ were female. By specifying `margins=True`, we can obtain row and column sums, which will indicate the absolute frequencies of each variable:"
   ]
  },
  {
   "cell_type": "code",
   "execution_count": 17,
   "id": "271d8f8c",
   "metadata": {},
   "outputs": [
    {
     "data": {
      "text/html": [
       "<div>\n",
       "<style scoped>\n",
       "    .dataframe tbody tr th:only-of-type {\n",
       "        vertical-align: middle;\n",
       "    }\n",
       "\n",
       "    .dataframe tbody tr th {\n",
       "        vertical-align: top;\n",
       "    }\n",
       "\n",
       "    .dataframe thead th {\n",
       "        text-align: right;\n",
       "    }\n",
       "</style>\n",
       "<table border=\"1\" class=\"dataframe\">\n",
       "  <thead>\n",
       "    <tr style=\"text-align: right;\">\n",
       "      <th>Pclass</th>\n",
       "      <th>1</th>\n",
       "      <th>2</th>\n",
       "      <th>3</th>\n",
       "      <th>All</th>\n",
       "    </tr>\n",
       "    <tr>\n",
       "      <th>Sex</th>\n",
       "      <th></th>\n",
       "      <th></th>\n",
       "      <th></th>\n",
       "      <th></th>\n",
       "    </tr>\n",
       "  </thead>\n",
       "  <tbody>\n",
       "    <tr>\n",
       "      <th>female</th>\n",
       "      <td>94</td>\n",
       "      <td>76</td>\n",
       "      <td>144</td>\n",
       "      <td>314</td>\n",
       "    </tr>\n",
       "    <tr>\n",
       "      <th>male</th>\n",
       "      <td>122</td>\n",
       "      <td>108</td>\n",
       "      <td>347</td>\n",
       "      <td>577</td>\n",
       "    </tr>\n",
       "    <tr>\n",
       "      <th>All</th>\n",
       "      <td>216</td>\n",
       "      <td>184</td>\n",
       "      <td>491</td>\n",
       "      <td>891</td>\n",
       "    </tr>\n",
       "  </tbody>\n",
       "</table>\n",
       "</div>"
      ],
      "text/plain": [
       "Pclass    1    2    3  All\n",
       "Sex                       \n",
       "female   94   76  144  314\n",
       "male    122  108  347  577\n",
       "All     216  184  491  891"
      ]
     },
     "execution_count": 17,
     "metadata": {},
     "output_type": "execute_result"
    }
   ],
   "source": [
    "pd.crosstab(titanic['Sex'], titanic['Pclass'],margins=True)"
   ]
  },
  {
   "cell_type": "markdown",
   "id": "2f7ec3db",
   "metadata": {},
   "source": [
    "We can obtain the joint relative frequency table by passing `normalize=True` to the crosstab function:"
   ]
  },
  {
   "cell_type": "code",
   "execution_count": 20,
   "id": "67176cc0",
   "metadata": {},
   "outputs": [
    {
     "data": {
      "text/html": [
       "<div>\n",
       "<style scoped>\n",
       "    .dataframe tbody tr th:only-of-type {\n",
       "        vertical-align: middle;\n",
       "    }\n",
       "\n",
       "    .dataframe tbody tr th {\n",
       "        vertical-align: top;\n",
       "    }\n",
       "\n",
       "    .dataframe thead th {\n",
       "        text-align: right;\n",
       "    }\n",
       "</style>\n",
       "<table border=\"1\" class=\"dataframe\">\n",
       "  <thead>\n",
       "    <tr style=\"text-align: right;\">\n",
       "      <th>Pclass</th>\n",
       "      <th>1</th>\n",
       "      <th>2</th>\n",
       "      <th>3</th>\n",
       "      <th>All</th>\n",
       "    </tr>\n",
       "    <tr>\n",
       "      <th>Sex</th>\n",
       "      <th></th>\n",
       "      <th></th>\n",
       "      <th></th>\n",
       "      <th></th>\n",
       "    </tr>\n",
       "  </thead>\n",
       "  <tbody>\n",
       "    <tr>\n",
       "      <th>female</th>\n",
       "      <td>0.105499</td>\n",
       "      <td>0.085297</td>\n",
       "      <td>0.161616</td>\n",
       "      <td>0.352413</td>\n",
       "    </tr>\n",
       "    <tr>\n",
       "      <th>male</th>\n",
       "      <td>0.136925</td>\n",
       "      <td>0.121212</td>\n",
       "      <td>0.389450</td>\n",
       "      <td>0.647587</td>\n",
       "    </tr>\n",
       "    <tr>\n",
       "      <th>All</th>\n",
       "      <td>0.242424</td>\n",
       "      <td>0.206510</td>\n",
       "      <td>0.551066</td>\n",
       "      <td>1.000000</td>\n",
       "    </tr>\n",
       "  </tbody>\n",
       "</table>\n",
       "</div>"
      ],
      "text/plain": [
       "Pclass         1         2         3       All\n",
       "Sex                                           \n",
       "female  0.105499  0.085297  0.161616  0.352413\n",
       "male    0.136925  0.121212  0.389450  0.647587\n",
       "All     0.242424  0.206510  0.551066  1.000000"
      ]
     },
     "execution_count": 20,
     "metadata": {},
     "output_type": "execute_result"
    }
   ],
   "source": [
    "pd.crosstab(titanic['Sex'], titanic['Pclass'], normalize=True, margins=True)"
   ]
  },
  {
   "cell_type": "markdown",
   "id": "42901371",
   "metadata": {},
   "source": [
    "It should be noted that the marginal relative frequencies obtained are identical to the relative frequencies of the univariate samples:"
   ]
  },
  {
   "cell_type": "code",
   "execution_count": 21,
   "id": "d86cb7cb",
   "metadata": {},
   "outputs": [
    {
     "data": {
      "text/plain": [
       "Sex\n",
       "male      0.647587\n",
       "female    0.352413\n",
       "Name: proportion, dtype: float64"
      ]
     },
     "execution_count": 21,
     "metadata": {},
     "output_type": "execute_result"
    }
   ],
   "source": [
    "titanic['Sex'].value_counts(normalize=True)"
   ]
  },
  {
   "cell_type": "markdown",
   "id": "66602231",
   "metadata": {},
   "source": [
    "That are exactly the values in the last column of the previous table. Similarly, the univariate probabilities of Pclass are the same as the last row of the previous table:"
   ]
  },
  {
   "cell_type": "code",
   "execution_count": 23,
   "id": "760c0197",
   "metadata": {},
   "outputs": [
    {
     "data": {
      "text/plain": [
       "Pclass\n",
       "3    0.551066\n",
       "1    0.242424\n",
       "2    0.206510\n",
       "Name: proportion, dtype: float64"
      ]
     },
     "execution_count": 23,
     "metadata": {},
     "output_type": "execute_result"
    }
   ],
   "source": [
    "titanic['Pclass'].value_counts(normalize=True)"
   ]
  },
  {
   "cell_type": "markdown",
   "id": "85ead455",
   "metadata": {},
   "source": [
    "#### Graphical representations\n",
    "\n",
    "We can use contingency tables and joint probability tables to obtain graphical representations. For example:"
   ]
  },
  {
   "cell_type": "code",
   "execution_count": 30,
   "id": "248be542",
   "metadata": {},
   "outputs": [
    {
     "data": {
      "image/png": "[encoded data removed]",
      "text/plain": [
       "<Figure size 640x480 with 1 Axes>"
      ]
     },
     "metadata": {},
     "output_type": "display_data"
    }
   ],
   "source": [
    "pd.crosstab(titanic['Sex'], titanic['Pclass']).plot.bar()\n",
    "plt.grid()\n",
    "plt.show()"
   ]
  },
  {
   "cell_type": "markdown",
   "id": "7b259817",
   "metadata": {},
   "source": [
    "The diagram above shows the distributions of people in the two classes, grouped by the two different sexes."
   ]
  },
  {
   "cell_type": "markdown",
   "id": "6acb559c",
   "metadata": {},
   "source": [
    "From this, we note that many passengers are men and in third class. In these cases, a stacked plot can sometimes be useful:"
   ]
  },
  {
   "cell_type": "code",
   "execution_count": 34,
   "id": "05af56dd",
   "metadata": {},
   "outputs": [
    {
     "data": {
      "image/png": "[encoded data removed]",
      "text/plain": [
       "<Figure size 640x480 with 1 Axes>"
      ]
     },
     "metadata": {},
     "output_type": "display_data"
    }
   ],
   "source": [
    "pd.crosstab(titanic['Sex'], titanic['Pclass']).plot.bar(stacked=True)\n",
    "plt.grid()\n",
    "plt.show()"
   ]
  },
  {
   "cell_type": "markdown",
   "id": "409caf31",
   "metadata": {},
   "source": [
    "We can reason in terms of joint probabilities by normalizing the counts:"
   ]
  },
  {
   "cell_type": "code",
   "execution_count": 35,
   "id": "e0bc2a42",
   "metadata": {},
   "outputs": [
    {
     "data": {
      "image/png": "[encoded data removed]",
      "text/plain": [
       "<Figure size 640x480 with 1 Axes>"
      ]
     },
     "metadata": {},
     "output_type": "display_data"
    }
   ],
   "source": [
    "pd.crosstab(titanic['Sex'], titanic['Pclass'], normalize=True).plot.bar(stacked=True)\n",
    "plt.grid()\n",
    "plt.show()"
   ]
  },
  {
   "cell_type": "markdown",
   "id": "528c60a2",
   "metadata": {},
   "source": [
    "## Sum Rule (Marginal Probability)\n",
    "\n",
    "In the previous example, we have seen how we can compute **marginal\n",
    "(univariate) probabilities** from the contingency table. This is\n",
    "possible because the contingency table contains information on how the\n",
    "different possible outcomes distribute over the sample space.\n",
    "\n",
    "In general, we can compute marginal probabilities form joint\n",
    "probabilities (i.e., we don't need to have the non-normalized frequency\n",
    "counts of the contingency table). Let us consider the general contingency table:\n",
    "\n",
    "|             | Y=$y_1$        | Y=$y_2$ | ... | Y=$y_l$ | Total   |\n",
    "|-------------|------------|------------|---------|-|-|\n",
    "| X=$x_1$     | $n_{11}$  | $n_{12}$  | ... | $n_{1l}$ | $n_{1+}$ |\n",
    "| X=$x_2$     | $n_{21}$  | $n_{22}$  | ... | $n_{2l}$ | $n_{2+}$ |\n",
    "| ...     | ... | ... | ... | ...| ...| ...|\n",
    "| X=$x_k$     | $n_{k1}$  | $n_{k2}$  | ... | $n_{kl}$ | $n_{k+}$ |\n",
    "| Total       | $n_{+1}$  | $n_{+2}$ | ... |  $n_{+l}$  | $n$ |\n",
    "\n",
    "where:\n",
    " - $n_{ij}$ is the number of times that we observe $X=x_i$ and $Y=y_j$ simultaneously (e.g., $C=1$ and $S=male$);\n",
    " - $n_{i+}$ is the sum of all occurrences in which $X = x_{i}$ (i.e., we are summing all values in row $i$): $n_{i+} = \\sum_{j} n_{ij}$;\n",
    " - $n_{+j}$ is the sum of all occurrences in which $Y = y_{j}$ (i.e., we are summing all values in column $j$): $n_{+j} = \\sum_{i} n_{ij}$;\n",
    "\n",
    "We can compute the joint probability $P(X = x_{i},Y = y_{j})$ with a\n",
    "frequentist approach using the formula:\n",
    "\n",
    "$$P\\left( X = x_{i},\\ Y = y_{j} \\right) = \\frac{n_{ij}}{n}$$\n",
    "\n",
    "We note that we can define the marginal probabilities of X and Y\n",
    "as follows:\n",
    "\n",
    "-   $P\\left( X = x_{i} \\right) = \\frac{n_{i+}}{n}$.\n",
    "-   $P\\left( Y = y_{j} \\right) = \\frac{n_{+j}}{n}$."
   ]
  },
  {
   "cell_type": "markdown",
   "id": "3b581eca",
   "metadata": {},
   "source": [
    "We can hence write the marginal probability of $X$ as follows:\n",
    "\n",
    "$$P\\left( X = x_{i} \\right) = \\frac{n_{i+}}{n} = \\frac{\\sum_{j}n_{ij}}{n} = \\sum_{j}\\frac{n_{ij}}{n} = \\sum_{j}^{}{P(X = x_{i},Y = y_{j})}$$\n",
    "\n",
    "This result is known as the **sum rule of probability**, which allows to\n",
    "estimate marginal probabilities from joint probabilities. This can be\n",
    "seen in more general terms as:\n",
    "\n",
    "$$P(X = x) = \\sum_{y}^{}{P(X = x,Y = y)}$$\n",
    "\n",
    "The act of computing $P(X)$ from $P(X,Y)$ is also known as\n",
    "marginalization."
   ]
  },
  {
   "cell_type": "markdown",
   "id": "9988459c",
   "metadata": {},
   "source": [
    "## Conditional Probability and Product Rule\n",
    "\n",
    "**In many cases, we are interested in the probability of some event,\n",
    "given that some other event happened.**\n",
    "\n",
    "This is called **conditional** **probability** and is denoted as \n",
    "\n",
    "$$P(X=x|Y=y)$$\n",
    "\n",
    "and read as \n",
    "\n",
    "> P of X=x given that Y=y\n",
    "\n",
    "In this context, $Y = y$ is the condition, and we are\n",
    "interested in studying the probability of X only in the cases in which\n",
    "the condition is verified.\n",
    "\n",
    "For instance, in our toy Titanic, we could be interested in\n",
    "$P(S = male|C = 1)$, i.e., what is the probability of picking a male,\n",
    "given that we know that we are drawing from the first class?\n",
    "\n",
    "Let's consider our example contingency table of two variables again:\n",
    "\n",
    "|             | Y=$y_1$        | Y=$y_2$ | ... | Y=$y_l$ | Total   |\n",
    "|-------------|------------|------------|---------|-|-|\n",
    "| X=$x_1$     | $n_{11}$  | $n_{12}$  | ... | $n_{1l}$ | $n_{1+}$ |\n",
    "| X=$x_2$     | $n_{21}$  | $n_{22}$  | ... | $n_{2l}$ | $n_{2+}$ |\n",
    "| ...     | ... | ... | ... | ...| ...| ...|\n",
    "| X=$x_k$     | $n_{k1}$  | $n_{k2}$  | ... | $n_{kl}$ | $n_{k+}$ |\n",
    "| Total       | $n_{+1}$  | $n_{+2}$ | ... |  $n_{+l}$  | $n$ |"
   ]
  },
  {
   "cell_type": "markdown",
   "id": "51bdd55b",
   "metadata": {},
   "source": [
    "We can compute the conditional probability\n",
    "$P(X = x_{i}|Y = y_{j})$ using the frequentist approach:\n",
    "\n",
    "$$P\\left( X = x_{i} \\middle| Y = y_{j} \\right) = \\frac{\\#\\ cases\\ in\\ which\\ X = x_{i}\\ and\\ Y = y_{i}}{\\#\\ cases\\ in\\ which\\ Y = y_{j}} = \\frac{n_{ij}}{n_{+j}}$$\n",
    "\n",
    "If we multiply the expression above by $1 = \\frac{n}{n}$, we obtain:\n",
    "\n",
    "$$P\\left( X = x_{i} \\middle| Y = y_{j} \\right) = \\frac{n_{ij}}{n}\\frac{n}{n_{+j}} = \\frac{\\frac{n_{ij}}{n}}{\\frac{n_{+j}}{n}} = \\frac{P\\left( X = x_{i},Y = y_{j} \\right)}{P(Y = y_{j})}$$\n",
    "\n",
    "This leads us to the general definition of conditional probability:\n",
    "\n",
    "$$P\\left( X = x \\middle| Y = y \\right) = \\frac{P(X = x,\\ Y = y)}{P(Y = y)}$$\n",
    "\n",
    "The conditional probability is defined only when $P(Y = y) > 0$, that\n",
    "is, we cannot define a probability conditioned on an event that never\n",
    "happens. It should be noted that, in general\n",
    "$P\\left( X \\middle| Y \\right) \\neq P(X)$."
   ]
  },
  {
   "cell_type": "markdown",
   "id": "b5cd41db",
   "metadata": {},
   "source": [
    "### Product Rule (Factorization)\n",
    "\n",
    "We can see the definition of conditional probability:\n",
    "\n",
    "$$P\\left( X = x \\middle| Y = y \\right) = \\frac{P(X = x,\\ Y = y)}{P(Y = y)}$$\n",
    "\n",
    "As follows:\n",
    "\n",
    "$$P(X = x,Y = y) = P\\left( X = x \\middle| Y = y \\right)P(Y = y)$$\n",
    "\n",
    "which is often referred to as **the product rule**.\n",
    "\n",
    "*The product rule allows to compute joint probabilities starting from\n",
    "conditional probabilities and marginal probabilities.* This is useful\n",
    "because measuring joint probabilities generally involves creating large\n",
    "tables, whereas conditional and marginal probabilities might be easier\n",
    "to derive.\n",
    "\n",
    "This operation of expressing a joint probability in terms of two factors\n",
    "is known as *factorization*.\n",
    "\n"
   ]
  },
  {
   "cell_type": "markdown",
   "id": "0a866c80",
   "metadata": {},
   "source": [
    "### How to compute a conditional probability?\n",
    "\n",
    "We just said that factorization can be useful for computing joint\n",
    "probabilities starting from conditional probabilities. However, two\n",
    "questions arise: \n",
    "- How can we compute a conditional probability?\n",
    "- Is it easier than computing a joint probability?\n",
    "\n",
    "Since conditional probabilities are obtained by *restricting* the\n",
    "probability space to *a subset* of the events, we can compute\n",
    "conditional probabilities by considering the observations which satisfy\n",
    "the condition.\n",
    "\n",
    "For example, let's say we want to compute the conditional probability:\n",
    "\n",
    "$$P(S|C = 1)$$\n",
    "\n",
    "That is to say, the probability of picking a person of a given sex, given\n",
    "that we know that we are considering the first class. Let's consider again our contingency table:\n",
    "\n",
    "|           | First Class | Second Class | Third Class | All |\n",
    "|-          |-            |-             |-            |-    |\n",
    "| male      | 3           | 5            | 7           | 15  |\n",
    "| female    | 3           | 3            | 4           | 10  |\n",
    "| All       | 6           | 8            | 11          | 25  |\n",
    "\n",
    "To compute this probability, we can just *consider all the observations\n",
    "that satisfy the condition* $C = 1$, which is equivalent to taking the\n",
    "first column of the full contingency table and compute the\n",
    "probabilities in a frequentist way:\n",
    "\n",
    "| | First Class |\n",
    "|-|-|\n",
    "|male |  3 | \n",
    "|female | 3 | \n",
    "|All | 6 |\n",
    "\n",
    "$$ P(S=male|C=1) = \\frac{3}{6} $$\n",
    "$$ P(S=female|C=1) = \\frac{3}{6} $$\n",
    "\n",
    "Note that, in general, when the number of variables is large, this\n",
    "approach allows to save a lot of space and time as it is not necessary\n",
    "to even build the first contingency table, but only the second,\n",
    "restricted one is required (for instance, one may choose not to record\n",
    "all observations in which we where picking form the other classes).\n",
    "\n",
    "Of course, the table above can be normalized to obtain a conditional probability table:\n",
    "\n",
    "| | First Class |\n",
    "|-|-|\n",
    "|male |  0.5 | \n",
    "|female | 0.5 | \n",
    "|All | 1 |"
   ]
  },
  {
   "cell_type": "markdown",
   "id": "94be1750",
   "metadata": {},
   "source": [
    "In Python, it is possible to obtain the conditional relative frequencies by normalizing by the appropriate row. Rather than conditioning on class, let's condition on sex in this case. We can do so by normalizing by rows:"
   ]
  },
  {
   "cell_type": "code",
   "execution_count": 27,
   "id": "9da2fcf4",
   "metadata": {},
   "outputs": [
    {
     "data": {
      "text/html": [
       "<div>\n",
       "<style scoped>\n",
       "    .dataframe tbody tr th:only-of-type {\n",
       "        vertical-align: middle;\n",
       "    }\n",
       "\n",
       "    .dataframe tbody tr th {\n",
       "        vertical-align: top;\n",
       "    }\n",
       "\n",
       "    .dataframe thead th {\n",
       "        text-align: right;\n",
       "    }\n",
       "</style>\n",
       "<table border=\"1\" class=\"dataframe\">\n",
       "  <thead>\n",
       "    <tr style=\"text-align: right;\">\n",
       "      <th>Pclass</th>\n",
       "      <th>1</th>\n",
       "      <th>2</th>\n",
       "      <th>3</th>\n",
       "    </tr>\n",
       "    <tr>\n",
       "      <th>Sex</th>\n",
       "      <th></th>\n",
       "      <th></th>\n",
       "      <th></th>\n",
       "    </tr>\n",
       "  </thead>\n",
       "  <tbody>\n",
       "    <tr>\n",
       "      <th>female</th>\n",
       "      <td>0.299363</td>\n",
       "      <td>0.242038</td>\n",
       "      <td>0.458599</td>\n",
       "    </tr>\n",
       "    <tr>\n",
       "      <th>male</th>\n",
       "      <td>0.211438</td>\n",
       "      <td>0.187175</td>\n",
       "      <td>0.601386</td>\n",
       "    </tr>\n",
       "    <tr>\n",
       "      <th>All</th>\n",
       "      <td>0.242424</td>\n",
       "      <td>0.206510</td>\n",
       "      <td>0.551066</td>\n",
       "    </tr>\n",
       "  </tbody>\n",
       "</table>\n",
       "</div>"
      ],
      "text/plain": [
       "Pclass         1         2         3\n",
       "Sex                                 \n",
       "female  0.299363  0.242038  0.458599\n",
       "male    0.211438  0.187175  0.601386\n",
       "All     0.242424  0.206510  0.551066"
      ]
     },
     "execution_count": 27,
     "metadata": {},
     "output_type": "execute_result"
    }
   ],
   "source": [
    "# normalize=0 indicates to condition on the first variable\n",
    "pd.crosstab(titanic['Sex'], titanic['Pclass'], normalize=0, margins=True)"
   ]
  },
  {
   "cell_type": "markdown",
   "id": "ae4ec9f0",
   "metadata": {},
   "source": [
    "From the table above, for example, we can infer:\n",
    "\n",
    "* $f(Pclass=1|Sex=female) = 0.290363$\n",
    "* $f(Pclass=2|Sex=female) = 0.242038$\n",
    "* $f(Pclass=3|Sex=female) = 0.458599$\n",
    "\n",
    "These are the frequencies of women in the three classes. Similarly, the second row represents the conditional frequencies with respect to `Sex=male`. From the table, we notice that the distribution of passengers changes across the three classes. In particular, among men, the third class is more frequent than among women.\n",
    "\n",
    "We can obtain the complementary perspective by conditioning on class instead:"
   ]
  },
  {
   "cell_type": "code",
   "execution_count": 28,
   "id": "1f9ed19f",
   "metadata": {},
   "outputs": [
    {
     "data": {
      "text/html": [
       "<div>\n",
       "<style scoped>\n",
       "    .dataframe tbody tr th:only-of-type {\n",
       "        vertical-align: middle;\n",
       "    }\n",
       "\n",
       "    .dataframe tbody tr th {\n",
       "        vertical-align: top;\n",
       "    }\n",
       "\n",
       "    .dataframe thead th {\n",
       "        text-align: right;\n",
       "    }\n",
       "</style>\n",
       "<table border=\"1\" class=\"dataframe\">\n",
       "  <thead>\n",
       "    <tr style=\"text-align: right;\">\n",
       "      <th>Pclass</th>\n",
       "      <th>1</th>\n",
       "      <th>2</th>\n",
       "      <th>3</th>\n",
       "      <th>All</th>\n",
       "    </tr>\n",
       "    <tr>\n",
       "      <th>Sex</th>\n",
       "      <th></th>\n",
       "      <th></th>\n",
       "      <th></th>\n",
       "      <th></th>\n",
       "    </tr>\n",
       "  </thead>\n",
       "  <tbody>\n",
       "    <tr>\n",
       "      <th>female</th>\n",
       "      <td>0.435185</td>\n",
       "      <td>0.413043</td>\n",
       "      <td>0.293279</td>\n",
       "      <td>0.352413</td>\n",
       "    </tr>\n",
       "    <tr>\n",
       "      <th>male</th>\n",
       "      <td>0.564815</td>\n",
       "      <td>0.586957</td>\n",
       "      <td>0.706721</td>\n",
       "      <td>0.647587</td>\n",
       "    </tr>\n",
       "  </tbody>\n",
       "</table>\n",
       "</div>"
      ],
      "text/plain": [
       "Pclass         1         2         3       All\n",
       "Sex                                           \n",
       "female  0.435185  0.413043  0.293279  0.352413\n",
       "male    0.564815  0.586957  0.706721  0.647587"
      ]
     },
     "execution_count": 28,
     "metadata": {},
     "output_type": "execute_result"
    }
   ],
   "source": [
    "# normalize=1 indicates conditioning on the first variable\n",
    "pd.crosstab(titanic['Sex'], titanic['Pclass'], normalize=1, margins=True)"
   ]
  },
  {
   "cell_type": "markdown",
   "id": "817bd25f",
   "metadata": {},
   "source": [
    "In this case, each column will be a probability distribution. For example:\n",
    "\n",
    "* $P(Sex=female|Pclass=1) = 0.435185$\n",
    "* $P(Sex=male|Pclass=1) = 0.564815$"
   ]
  },
  {
   "cell_type": "markdown",
   "id": "57cb3f7f",
   "metadata": {},
   "source": [
    "We note that the proportion between men and women changes in the three classes, and in particular in the third class there are many more men than women."
   ]
  },
  {
   "cell_type": "markdown",
   "id": "49438591",
   "metadata": {},
   "source": [
    "### Graphical Representations\n",
    "Similarly to joint probabilities, we can also obtain visualizations from conditional probabilities. For instance:"
   ]
  },
  {
   "cell_type": "code",
   "execution_count": 39,
   "id": "500940b3",
   "metadata": {},
   "outputs": [
    {
     "data": {
      "image/png": "[encoded data removed]",
      "text/plain": [
       "<Figure size 640x480 with 1 Axes>"
      ]
     },
     "metadata": {},
     "output_type": "display_data"
    }
   ],
   "source": [
    "pd.crosstab(titanic['Sex'], titanic['Pclass'], normalize=0).plot.bar()\n",
    "plt.grid()\n",
    "plt.show()"
   ]
  },
  {
   "cell_type": "markdown",
   "id": "2102d508",
   "metadata": {},
   "source": [
    "The diagram above shows the distributions of passengers in the three classes for the two sexes. Now, these are two valid probability distributions summing to one for all the three values (three classes). This is clearer with a stacked plot:"
   ]
  },
  {
   "cell_type": "code",
   "execution_count": 40,
   "id": "2db2e417",
   "metadata": {},
   "outputs": [
    {
     "data": {
      "image/png": "[encoded data removed]",
      "text/plain": [
       "<Figure size 640x480 with 1 Axes>"
      ]
     },
     "metadata": {},
     "output_type": "display_data"
    }
   ],
   "source": [
    "pd.crosstab(titanic['Sex'], titanic['Pclass'], normalize=0).plot.bar(stacked=True)\n",
    "plt.grid()\n",
    "plt.show()"
   ]
  },
  {
   "cell_type": "markdown",
   "id": "eb9896f5",
   "metadata": {},
   "source": [
    "We can obtain the graph of conditional frequencies with respect to the classes for a complementary view. In this case, to have a meaningful graph, we need to transpose the contingency table with a `.T`:"
   ]
  },
  {
   "cell_type": "code",
   "execution_count": 42,
   "id": "b10cf777",
   "metadata": {},
   "outputs": [
    {
     "data": {
      "image/png": "[encoded data removed]",
      "text/plain": [
       "<Figure size 640x480 with 1 Axes>"
      ]
     },
     "metadata": {},
     "output_type": "display_data"
    }
   ],
   "source": [
    "# normalize=1 indicates conditioning on the first variable\n",
    "pd.crosstab(titanic['Sex'], titanic['Pclass'], normalize=1).T.plot.bar(stacked=True)\n",
    "plt.grid()\n",
    "plt.show()"
   ]
  },
  {
   "cell_type": "markdown",
   "id": "6d8666a3",
   "metadata": {},
   "source": [
    "This graph now shows the distribution of sexes in the three classes, clearly showing that class 3 contains mostly males."
   ]
  },
  {
   "cell_type": "markdown",
   "id": "9a22b128",
   "metadata": {},
   "source": [
    "## The Chain Rule of Conditional Probabilities\n",
    "\n",
    "When dealing with multiple variables, the product rule can be applied in\n",
    "an iterative fashion, thus obtaining the 'chain rule' of conditional\n",
    "probabilities.\n",
    "\n",
    "For instance:\n",
    "\n",
    "$$P(X,Y,Z) = P\\left( X \\middle| Y,Z \\right)P(Y,Z)$$\n",
    "\n",
    "Since:\n",
    "\n",
    "$$P(Y,Z) = P\\left( Y \\middle| Z \\right)P(Z)$$\n",
    "\n",
    "We obtain:\n",
    "\n",
    "$$P(X,Y,Z) = P\\left( X \\middle| Y,Z \\right)P\\left( Y \\middle| Z \\right)P(Z)$$\n",
    "\n",
    "Since joint probabilities are symmetric, we could equally obtain:\n",
    "\n",
    "$$P(X,Y,Z) = P\\left( Z \\middle| Y,X \\right)P\\left( Y \\middle| X \\right)P(X)$$\n",
    "\n",
    "This rule can be formalized as follows:\n",
    "\n",
    "$$P\\left( X_{1},\\ldots,\\ X_{n} \\right) = P\\left( X_{1} \\right)\\prod_{i = 2}^{n}{P(X_{i}|X_{1},\\ldots,\\ X_{i - 1})}$$\n",
    "\n"
   ]
  },
  {
   "cell_type": "markdown",
   "id": "c2958dba",
   "metadata": {},
   "source": [
    "## Bayes' Theorem\n",
    "\n",
    "Given two variables A and B, from the product rule, we obtain:\n",
    "\n",
    "-   $P(A,B) = P\\left( A \\middle| B \\right)P(B)$\n",
    "\n",
    "-   $P(B,A) = P\\left( B \\middle| A \\right)P(A)$\n",
    "\n",
    "Since joint probabilities are symmetric, we have:\n",
    "\n",
    "$$P(A,B) = P(B,A) \\rightarrow P\\left( A \\middle| B \\right)P(B) = P\\left( B \\middle| A \\right)P(A)$$\n",
    "\n",
    "Which implies:\n",
    "\n",
    "$$P\\left( A \\middle| B \\right) = \\frac{P\\left( B \\middle| A \\right)P(A)}{P(B)}$$\n",
    "\n",
    "This last expression is known as Bayes' Theorem (or Bayes' rule).\n",
    "\n",
    "Technically speaking, the Bayes' rule can be used to \"turn\"\n",
    "probabilities of the kind $P(A|B)$ into probabilities of the kind\n",
    "$P(B|A)$.\n",
    "\n",
    "More formally, the Bayes' rule can be used to **update\n",
    "our expectation that some event will happen (event A) when we observe\n",
    "some evidence (event B)**. This links to the Bayesian interpretation of\n",
    "probability, according to which probability can be seen as **a\n",
    "*reasonable expectation* representing *the quantification of a degree of\n",
    "belief*** (i.e., how much we believe some event will happen).\n",
    "\n",
    "The different terms in the Bayes' rule have specific names:\n",
    "\n",
    "-   $P(A)$ is called 'the prior' -- this is our expectation that A\n",
    "    happens when we do not have any other data to rely on\n",
    "\n",
    "-   $P(B|A)$ is called 'the likelihood' -- this quantifies how likely it\n",
    "    is to observe event B happening if we assume that event A has\n",
    "    happened\n",
    "\n",
    "-   $P(B)$ is called 'the evidence' -- this models the probability of\n",
    "    observing event B\n",
    "\n",
    "-   $P(A|B)$ is called 'the posterior' -- this is our updated\n",
    "    probability, i.e., how likely it is A to happen once we have\n",
    "    observed B happening\n",
    "\n",
    "We'll see an example in the section below."
   ]
  },
  {
   "cell_type": "markdown",
   "id": "a0466079",
   "metadata": {},
   "source": [
    "### Bayesian Probability Example\n",
    "\n",
    "Let's imagine we are trying to understand if a friend has COVID or not.\n",
    "If we do not know anything about our friend's symptoms (i.e., we don't\n",
    "know if they have any symptoms or not), then we would expect our friend\n",
    "to have COVID with a \"prior\" probability $P(C)$. If we know that\n",
    "currently one people over two has COVID, we expect:\n",
    "\n",
    "$$P(C) = \\frac{1}{2}$$\n",
    "\n",
    "Now, if our friend tells us he has fever, things change a bit. We are\n",
    "now interested in modeling the probability:\n",
    "$P\\left( C \\middle| F \\right)$. We can try to model it using Bayes'\n",
    "rule:\n",
    "\n",
    "$$P\\left( C \\middle| F \\right) = \\frac{P\\left( F \\middle| C \\right)P(C)}{P(F)}$$\n",
    "\n",
    "Note that it is not straightforward to estimate $P(C|F)$ in a\n",
    "frequentist way. Ideally, we should take all people with a fever on\n",
    "earth and check how many of them has COVID. This is not feasible as\n",
    "people with just fever may never do a COVID test. On the contrary,\n",
    "measuring $P(F|C)$ is easier: we take all people which we know have\n",
    "COVID (these may not be all people with COVID, but probably a large\n",
    "enough sample) and see how many of them have a fever. Let's suppose that\n",
    "one people with COVID out of three has a fever. Then we can expect:\n",
    "\n",
    "$$P\\left( F \\middle| C \\right) = \\frac{1}{3}$$\n",
    "\n",
    "Now we need to estimate the evidence $P(F)$. This can be done by\n",
    "considering how frequent it is for people to have a fever. Let's say we\n",
    "use historical data and find out that one person out of five has fever.\n",
    "We finally have:\n",
    "\n",
    "$$P\\left( C \\middle| F \\right) = \\frac{\\frac{1}{3}\\frac{1}{2}}{\\frac{1}{5}} = \\frac{5}{6}$$\n",
    "\n",
    "We can interpret this use of the Bayes' theorem as follows:\n",
    "\n",
    "-   Before knowing anything about symptoms, we could only guess that our\n",
    "    friend had COVID with a prior probability of $P(C) = \\frac{1}{2}$\n",
    "\n",
    "-   When we get to know that our friend has a fever, our expectation\n",
    "    changes. We know that people with COVID often get a fever, but we\n",
    "    also know that not all people with COVID get a fever, so we are not\n",
    "    going to say that we are 100% certain that our friend has fever.\n",
    "    Instead, we use Bayes' rule to obtain an updated estimate\n",
    "    $P\\left( C \\middle| F \\right) = \\frac{5}{6}$ based on our knowledge\n",
    "    of the likelihood $P(F|C)$ (how likely it is for people with symptom\n",
    "    to have COVID) and the evidence $P(F)$ (how common is this symptom\n",
    "    -- if it is too common, then it is not so informative)\n",
    "\n"
   ]
  },
  {
   "cell_type": "markdown",
   "id": "e9fe0450",
   "metadata": {},
   "source": [
    "## Independence and Conditional Independence\n",
    "\n",
    "Two variables $X$ and $Y$ are independent if the outcome of one of the\n",
    "two does not influence the outcome of the other. Formally speaking, two\n",
    "variables are **said to be independent** if and only if:\n",
    "\n",
    "$$P(X,Y) = P(X)P(Y)$$\n",
    "\n",
    "It should be noted that the expression above **is generally not true**\n",
    "as we cannot always assume that two variables are independent.\n",
    "\n",
    "Independence can be denoted as:\n",
    "\n",
    "$$X\\bot Y$$\n",
    "\n",
    "Moreover, if two variables $X$ and $Y$ are independent, then:\n",
    "\n",
    "$$P\\left( X \\middle| Y \\right) = \\frac{P(X,Y)}{P(Y)} = \\frac{P(X)P(Y)}{P(Y)} = P(X)$$\n",
    "\n",
    "This makes sense because it means that \"the fact that $Y$ happens does\n",
    "not influence the fact that $X$ happens\", which is what we would expect\n",
    "of two independent variables $X$ and $Y$.\n",
    "\n",
    "### Examples\n",
    "\n",
    "Intuitively, two variables are independent if the values of one of them\n",
    "do not affect the values of the other one:\n",
    "\n",
    "-   Weight and height of a person are **not independent**. Indeed,\n",
    "    taller people are usually heavier.\n",
    "\n",
    "-   Height and richness are **independent**, as the richness does not\n",
    "    depend on the height of a person.\n",
    "\n"
   ]
  },
  {
   "cell_type": "markdown",
   "id": "8084e840",
   "metadata": {},
   "source": [
    "### Conditional independence\n",
    "\n",
    "Two random variables $X$ and $Y$ are said to be **conditionally\n",
    "independent** given a random variable $Z$ if:\n",
    "\n",
    "$$P\\left( X,Y \\middle| Z \\right) = P\\left( X \\middle| Z \\right)P\\left( Y \\middle| Z \\right)$$\n",
    "\n",
    "Conditional independence can be denoted as:\n",
    "\n",
    "$$X\\bot Y\\ |\\ Z$$\n",
    "\n",
    "#### Example\n",
    "\n",
    "Height and vocabulary are not independent: taller people are usually\n",
    "older, and hence they have a more sophisticated vocabulary (they know\n",
    "more words). However, if we condition on age, they become independent.\n",
    "Indeed, among people of the same age, height should not influence\n",
    "vocabulary. Hence, height and vocabulary are **conditionally\n",
    "independent** with respect to age.\n",
    "\n"
   ]
  },
  {
   "cell_type": "markdown",
   "id": "a12d3152",
   "metadata": {},
   "source": [
    "## Example of Probability Manipulation\n",
    "\n",
    "Let's now consider a real probability manipulation example. This time we will consider the following variables: `Pclass` and `Survived`. We will use observed proportions to answer questions such as:\n",
    "\n",
    "1. What is the overall probability that a passenger survived?\n",
    "2. What is the probability that a passenger was in 1st class and they survived?\n",
    "3. What is the probability that a passenger survived, given that they were in 3rd class?\n",
    "\n",
    "We will start by defining two random variables:\n",
    "\n",
    "- $ Pclass \\in \\{1, 2, 3\\} $: Passenger class\n",
    "- $ Survived \\in \\{0, 1\\} $: Survival outcome (0 = died, 1 = survived)\n",
    "\n",
    "### What is the overall probability that a passenger survived?\n",
    "To answer this question, we need to compute the overall probabilites of surviving ($P(Survived)$):"
   ]
  },
  {
   "cell_type": "code",
   "execution_count": 45,
   "id": "f727a975",
   "metadata": {},
   "outputs": [
    {
     "data": {
      "text/plain": [
       "Survived\n",
       "0    0.616162\n",
       "1    0.383838\n",
       "Name: proportion, dtype: float64"
      ]
     },
     "execution_count": 45,
     "metadata": {},
     "output_type": "execute_result"
    }
   ],
   "source": [
    "titanic['Survived'].value_counts(normalize=True)"
   ]
  },
  {
   "cell_type": "markdown",
   "id": "7ff7032e",
   "metadata": {},
   "source": [
    "From the table above, we can say:\n",
    "- $P(Survived=1) = 0.39$\n",
    "- $P(Survived=0) = 0.61$\n",
    "\n"
   ]
  },
  {
   "cell_type": "markdown",
   "id": "5049f0dd",
   "metadata": {},
   "source": [
    "### What is the probability that a passenger was in 1st class and they survived?\n",
    "To answer this question, we need to compute the joint probability:"
   ]
  },
  {
   "cell_type": "code",
   "execution_count": 48,
   "id": "73e24f9a",
   "metadata": {},
   "outputs": [
    {
     "data": {
      "text/html": [
       "<div>\n",
       "<style scoped>\n",
       "    .dataframe tbody tr th:only-of-type {\n",
       "        vertical-align: middle;\n",
       "    }\n",
       "\n",
       "    .dataframe tbody tr th {\n",
       "        vertical-align: top;\n",
       "    }\n",
       "\n",
       "    .dataframe thead th {\n",
       "        text-align: right;\n",
       "    }\n",
       "</style>\n",
       "<table border=\"1\" class=\"dataframe\">\n",
       "  <thead>\n",
       "    <tr style=\"text-align: right;\">\n",
       "      <th>Pclass</th>\n",
       "      <th>1</th>\n",
       "      <th>2</th>\n",
       "      <th>3</th>\n",
       "      <th>All</th>\n",
       "    </tr>\n",
       "    <tr>\n",
       "      <th>Survived</th>\n",
       "      <th></th>\n",
       "      <th></th>\n",
       "      <th></th>\n",
       "      <th></th>\n",
       "    </tr>\n",
       "  </thead>\n",
       "  <tbody>\n",
       "    <tr>\n",
       "      <th>0</th>\n",
       "      <td>0.089787</td>\n",
       "      <td>0.108866</td>\n",
       "      <td>0.417508</td>\n",
       "      <td>0.616162</td>\n",
       "    </tr>\n",
       "    <tr>\n",
       "      <th>1</th>\n",
       "      <td>0.152637</td>\n",
       "      <td>0.097643</td>\n",
       "      <td>0.133558</td>\n",
       "      <td>0.383838</td>\n",
       "    </tr>\n",
       "    <tr>\n",
       "      <th>All</th>\n",
       "      <td>0.242424</td>\n",
       "      <td>0.206510</td>\n",
       "      <td>0.551066</td>\n",
       "      <td>1.000000</td>\n",
       "    </tr>\n",
       "  </tbody>\n",
       "</table>\n",
       "</div>"
      ],
      "text/plain": [
       "Pclass           1         2         3       All\n",
       "Survived                                        \n",
       "0         0.089787  0.108866  0.417508  0.616162\n",
       "1         0.152637  0.097643  0.133558  0.383838\n",
       "All       0.242424  0.206510  0.551066  1.000000"
      ]
     },
     "execution_count": 48,
     "metadata": {},
     "output_type": "execute_result"
    }
   ],
   "source": [
    "pd.crosstab(titanic['Survived'], titanic['Pclass'], normalize=True, margins=True)"
   ]
  },
  {
   "cell_type": "markdown",
   "id": "51d43898",
   "metadata": {},
   "source": [
    "From the table above, we can answer our question as follows:\n",
    "\n",
    "$$P(Pclass=1, Survived=1) = 0.09$$"
   ]
  },
  {
   "cell_type": "markdown",
   "id": "50f11a14",
   "metadata": {},
   "source": [
    "### What is the probability that a passenger survived, given that they were in 3rd class?\n",
    "\n",
    "To answer this question, we need to compute a conditional distribution:"
   ]
  },
  {
   "cell_type": "code",
   "execution_count": 50,
   "id": "5c3aceeb",
   "metadata": {},
   "outputs": [
    {
     "data": {
      "text/html": [
       "<div>\n",
       "<style scoped>\n",
       "    .dataframe tbody tr th:only-of-type {\n",
       "        vertical-align: middle;\n",
       "    }\n",
       "\n",
       "    .dataframe tbody tr th {\n",
       "        vertical-align: top;\n",
       "    }\n",
       "\n",
       "    .dataframe thead th {\n",
       "        text-align: right;\n",
       "    }\n",
       "</style>\n",
       "<table border=\"1\" class=\"dataframe\">\n",
       "  <thead>\n",
       "    <tr style=\"text-align: right;\">\n",
       "      <th>Pclass</th>\n",
       "      <th>1</th>\n",
       "      <th>2</th>\n",
       "      <th>3</th>\n",
       "      <th>All</th>\n",
       "    </tr>\n",
       "    <tr>\n",
       "      <th>Survived</th>\n",
       "      <th></th>\n",
       "      <th></th>\n",
       "      <th></th>\n",
       "      <th></th>\n",
       "    </tr>\n",
       "  </thead>\n",
       "  <tbody>\n",
       "    <tr>\n",
       "      <th>0</th>\n",
       "      <td>0.37037</td>\n",
       "      <td>0.527174</td>\n",
       "      <td>0.757637</td>\n",
       "      <td>0.616162</td>\n",
       "    </tr>\n",
       "    <tr>\n",
       "      <th>1</th>\n",
       "      <td>0.62963</td>\n",
       "      <td>0.472826</td>\n",
       "      <td>0.242363</td>\n",
       "      <td>0.383838</td>\n",
       "    </tr>\n",
       "  </tbody>\n",
       "</table>\n",
       "</div>"
      ],
      "text/plain": [
       "Pclass          1         2         3       All\n",
       "Survived                                       \n",
       "0         0.37037  0.527174  0.757637  0.616162\n",
       "1         0.62963  0.472826  0.242363  0.383838"
      ]
     },
     "execution_count": 50,
     "metadata": {},
     "output_type": "execute_result"
    }
   ],
   "source": [
    "pd.crosstab(titanic['Survived'], titanic['Pclass'], normalize=1, margins=True)"
   ]
  },
  {
   "cell_type": "markdown",
   "id": "9982ccf2",
   "metadata": {},
   "source": [
    "To answer the question, we can say:\n",
    "\n",
    "$$P(Survived=1|Pclass=3) = 0.24$$"
   ]
  },
  {
   "cell_type": "markdown",
   "id": "bdeadb65",
   "metadata": {},
   "source": [
    "### Excercise\n",
    "\n",
    "Suppose that we have three colored boxes r (red), b (blue), and g\n",
    "(green). Box r contains 3 apples, 4 oranges, and 3 limes, box b contains\n",
    "1 apple, 1 orange, and 0 limes, and box g contains 3 apples, 3 oranges,\n",
    "and 4 limes. If a box is chosen at random with probabilities P(r)=0.2,\n",
    "P(b)=0.2, P(g)=0.6, and a piece of fruit is extracted from the box (with\n",
    "equal probability of selecting any of the items in the box), then what\n",
    "is the probability of selecting an apple? If we observe that the\n",
    "selected fruit is in fact an orange, what is the probability that it\n",
    "came from the green box?\n",
    "\n"
   ]
  },
  {
   "cell_type": "markdown",
   "id": "9d632374",
   "metadata": {},
   "source": [
    "## References\n",
    "\n",
    "-   Parts of chapter 1 of \\[1\\];\n",
    "-   Most of chapter 3 of \\[2\\];\n",
    "-   Parts of chapters 5-7 of \\[3\\].\n",
    "\n",
    "\n",
    "\\[1\\] Bishop, Christopher M. *Pattern recognition and machine learning*.\n",
    "springer, 2006.\n",
    "<https://www.microsoft.com/en-us/research/uploads/prod/2006/01/Bishop-Pattern-Recognition-and-Machine-Learning-2006.pdf>\n",
    "\n",
    "\\[2\\] Goodfellow, Ian, Yoshua Bengio, and Aaron Courville. *Deep\n",
    "learning*. MIT press, 2016. <https://www.deeplearningbook.org/>\n",
    "\n",
    "\\[3\\] Heumann, Christian, and Michael Schomaker Shalabh. Introduction to statistics and data analysis. Springer International Publishing Switzerland, 2016.\n"
   ]
  }
 ],
 "metadata": {
  "kernelspec": {
   "display_name": "base",
   "language": "python",
   "name": "python3"
  },
  "language_info": {
   "codemirror_mode": {
    "name": "ipython",
    "version": 3
   },
   "file_extension": ".py",
   "mimetype": "text/x-python",
   "name": "python",
   "nbconvert_exporter": "python",
   "pygments_lexer": "ipython3",
   "version": "3.13.5"
  }
 },
 "nbformat": 4,
 "nbformat_minor": 5
}
